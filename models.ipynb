{
 "cells": [
  {
   "cell_type": "code",
   "execution_count": null,
   "id": "e8f67bd6",
   "metadata": {},
   "outputs": [],
   "source": [
    "\n",
    "# mean/box rating per month / yr agg by gender\n",
    "\n",
    "# korelace poctu her a ratingu"
   ]
  },
  {
   "cell_type": "code",
   "execution_count": 1,
   "id": "bbaf0784",
   "metadata": {},
   "outputs": [
    {
     "name": "stderr",
     "output_type": "stream",
     "text": [
      "/tmp/ipykernel_83297/750563276.py:5: DtypeWarning: Columns (7) have mixed types.Specify dtype option on import or set low_memory=False.\n",
      "  all_dfs = [pd.read_csv(file, sep='|') for file in data_files]\n"
     ]
    }
   ],
   "source": [
    "import glob\n",
    "import pandas as pd\n",
    "\n",
    "data_files = glob.glob(\"chess_ratings/*.csv\")\n",
    "all_dfs = [pd.read_csv(file, sep='|') for file in data_files]"
   ]
  },
  {
   "cell_type": "code",
   "execution_count": 2,
   "id": "7baacad0",
   "metadata": {},
   "outputs": [],
   "source": [
    "from spark_utils import preprocess_data\n",
    "\n",
    "data = pd.concat(all_dfs)\n",
    "data = preprocess_data(data)"
   ]
  },
  {
   "cell_type": "code",
   "execution_count": 3,
   "id": "ff070116",
   "metadata": {},
   "outputs": [
    {
     "name": "stderr",
     "output_type": "stream",
     "text": [
      "WARNING: An illegal reflective access operation has occurred\n",
      "WARNING: Illegal reflective access by org.apache.spark.unsafe.Platform (file:/opt/data/Gabi/miniconda3/envs/pyt/lib/python3.9/site-packages/pyspark/jars/spark-unsafe_2.12-3.2.1.jar) to constructor java.nio.DirectByteBuffer(long,int)\n",
      "WARNING: Please consider reporting this to the maintainers of org.apache.spark.unsafe.Platform\n",
      "WARNING: Use --illegal-access=warn to enable warnings of further illegal reflective access operations\n",
      "WARNING: All illegal access operations will be denied in a future release\n",
      "Using Spark's default log4j profile: org/apache/spark/log4j-defaults.properties\n",
      "Setting default log level to \"WARN\".\n",
      "To adjust logging level use sc.setLogLevel(newLevel). For SparkR, use setLogLevel(newLevel).\n",
      "22/05/20 13:04:08 WARN NativeCodeLoader: Unable to load native-hadoop library for your platform... using builtin-java classes where applicable\n",
      "22/05/20 13:04:09 WARN Utils: Service 'SparkUI' could not bind on port 4040. Attempting port 4041.\n"
     ]
    }
   ],
   "source": [
    "from pyspark.sql import SparkSession\n",
    "\n",
    "spark = SparkSession.builder \\\n",
    "    .master('local[*]') \\\n",
    "    .config(\"spark.driver.memory\", \"20g\") \\\n",
    "    .appName('chess-app') \\\n",
    "    .getOrCreate()"
   ]
  },
  {
   "cell_type": "code",
   "execution_count": 4,
   "id": "6f1e27a6",
   "metadata": {},
   "outputs": [],
   "source": [
    "spark.conf.set(\"spark.sql.execution.arrow.pyspark.enabled\", \"true\")\n",
    "\n",
    "df = spark.createDataFrame(data)"
   ]
  },
  {
   "cell_type": "code",
   "execution_count": 6,
   "id": "472a9958",
   "metadata": {},
   "outputs": [
    {
     "name": "stderr",
     "output_type": "stream",
     "text": [
      "22/05/20 13:05:02 WARN TaskSetManager: Stage 0 contains a task of very large size (32091 KiB). The maximum recommended task size is 1000 KiB.\n",
      "22/05/20 13:05:23 WARN TaskSetManager: Stage 11 contains a task of very large size (32091 KiB). The maximum recommended task size is 1000 KiB.\n",
      "                                                                                \r"
     ]
    },
    {
     "name": "stdout",
     "output_type": "stream",
     "text": [
      "Counts before join: base_df 345770, reduced 345770\n"
     ]
    },
    {
     "name": "stderr",
     "output_type": "stream",
     "text": [
      "22/05/20 13:05:31 WARN TaskSetManager: Stage 26 contains a task of very large size (32091 KiB). The maximum recommended task size is 1000 KiB.\n",
      "22/05/20 13:05:36 WARN TaskSetManager: Stage 38 contains a task of very large size (32091 KiB). The maximum recommended task size is 1000 KiB.\n"
     ]
    },
    {
     "name": "stdout",
     "output_type": "stream",
     "text": [
      "Counts after join: base_df 345770\n"
     ]
    },
    {
     "name": "stderr",
     "output_type": "stream",
     "text": [
      "22/05/20 13:05:51 WARN TaskSetManager: Stage 49 contains a task of very large size (32091 KiB). The maximum recommended task size is 1000 KiB.\n",
      "                                                                                \r"
     ]
    },
    {
     "name": "stdout",
     "output_type": "stream",
     "text": [
      "Counts before join: base_df 345770, reduced 345770\n"
     ]
    },
    {
     "name": "stderr",
     "output_type": "stream",
     "text": [
      "22/05/20 13:05:57 WARN TaskSetManager: Stage 70 contains a task of very large size (32091 KiB). The maximum recommended task size is 1000 KiB.\n",
      "22/05/20 13:06:03 WARN TaskSetManager: Stage 88 contains a task of very large size (32091 KiB). The maximum recommended task size is 1000 KiB.\n"
     ]
    },
    {
     "name": "stdout",
     "output_type": "stream",
     "text": [
      "Counts after join: base_df 345770\n"
     ]
    },
    {
     "name": "stderr",
     "output_type": "stream",
     "text": [
      "22/05/20 13:06:17 WARN TaskSetManager: Stage 99 contains a task of very large size (32091 KiB). The maximum recommended task size is 1000 KiB.\n",
      "22/05/20 13:06:23 WARN TaskSetManager: Stage 126 contains a task of very large size (32091 KiB). The maximum recommended task size is 1000 KiB.\n"
     ]
    },
    {
     "name": "stdout",
     "output_type": "stream",
     "text": [
      "Counts before join: base_df 345770, reduced 345770\n"
     ]
    },
    {
     "name": "stderr",
     "output_type": "stream",
     "text": [
      "22/05/20 13:06:30 WARN TaskSetManager: Stage 150 contains a task of very large size (32091 KiB). The maximum recommended task size is 1000 KiB.\n"
     ]
    },
    {
     "name": "stdout",
     "output_type": "stream",
     "text": [
      "Counts after join: base_df 345770\n"
     ]
    },
    {
     "name": "stderr",
     "output_type": "stream",
     "text": [
      "22/05/20 13:06:45 WARN TaskSetManager: Stage 161 contains a task of very large size (32091 KiB). The maximum recommended task size is 1000 KiB.\n",
      "                                                                                \r"
     ]
    },
    {
     "name": "stdout",
     "output_type": "stream",
     "text": [
      "Counts before join: base_df 345770, reduced 345770\n"
     ]
    },
    {
     "name": "stderr",
     "output_type": "stream",
     "text": [
      "22/05/20 13:06:52 WARN TaskSetManager: Stage 194 contains a task of very large size (32091 KiB). The maximum recommended task size is 1000 KiB.\n",
      "                                                                                \r"
     ]
    },
    {
     "name": "stdout",
     "output_type": "stream",
     "text": [
      "Counts after join: base_df 345770\n"
     ]
    },
    {
     "name": "stderr",
     "output_type": "stream",
     "text": [
      "22/05/20 13:06:59 WARN TaskSetManager: Stage 224 contains a task of very large size (32091 KiB). The maximum recommended task size is 1000 KiB.\n",
      "22/05/20 13:07:13 WARN TaskSetManager: Stage 235 contains a task of very large size (32091 KiB). The maximum recommended task size is 1000 KiB.\n",
      "                                                                                \r"
     ]
    },
    {
     "name": "stdout",
     "output_type": "stream",
     "text": [
      "Counts before join: base_df 345770, reduced 345770\n"
     ]
    },
    {
     "name": "stderr",
     "output_type": "stream",
     "text": [
      "22/05/20 13:07:21 WARN TaskSetManager: Stage 274 contains a task of very large size (32091 KiB). The maximum recommended task size is 1000 KiB.\n",
      "22/05/20 13:07:30 WARN TaskSetManager: Stage 310 contains a task of very large size (32091 KiB). The maximum recommended task size is 1000 KiB.\n"
     ]
    },
    {
     "name": "stdout",
     "output_type": "stream",
     "text": [
      "Counts after join: base_df 345770\n"
     ]
    },
    {
     "name": "stderr",
     "output_type": "stream",
     "text": [
      "22/05/20 13:07:43 WARN TaskSetManager: Stage 321 contains a task of very large size (32091 KiB). The maximum recommended task size is 1000 KiB.\n",
      "22/05/20 13:07:54 WARN TaskSetManager: Stage 366 contains a task of very large size (32091 KiB). The maximum recommended task size is 1000 KiB.\n"
     ]
    },
    {
     "name": "stdout",
     "output_type": "stream",
     "text": [
      "Counts before join: base_df 345770, reduced 345770\n"
     ]
    },
    {
     "name": "stderr",
     "output_type": "stream",
     "text": [
      "[Stage 392:===>                                                   (2 + 31) / 33]\r"
     ]
    },
    {
     "name": "stdout",
     "output_type": "stream",
     "text": [
      "Counts after join: base_df 345770\n"
     ]
    },
    {
     "name": "stderr",
     "output_type": "stream",
     "text": [
      "\r",
      "[Stage 392:=====================================================> (32 + 1) / 33]\r",
      "\r",
      "                                                                                \r"
     ]
    }
   ],
   "source": [
    "from spark_utils import get_dataset\n",
    "\n",
    "feature_cols = [('Flag', 'str'), ('Gms', 'sum'), ('Gms', 'mean'), ('Rat', 'mean'), ('tit', 'max'), ('wtit', 'max')]\n",
    "\n",
    "agg_df = get_dataset(df, feature_cols)"
   ]
  },
  {
   "cell_type": "code",
   "execution_count": 7,
   "id": "3546c592",
   "metadata": {},
   "outputs": [
    {
     "name": "stderr",
     "output_type": "stream",
     "text": [
      "22/05/20 13:08:04 WARN TaskSetManager: Stage 408 contains a task of very large size (32091 KiB). The maximum recommended task size is 1000 KiB.\n",
      "                                                                                \r"
     ]
    }
   ],
   "source": [
    "agg_df = agg_df.toPandas()"
   ]
  },
  {
   "cell_type": "code",
   "execution_count": 9,
   "id": "1e5cda39",
   "metadata": {},
   "outputs": [],
   "source": [
    "# filling newly created nans\n",
    "for c in agg_df.columns:\n",
    "    if 'Flag' in c:\n",
    "        agg_df[c] = agg_df[c].fillna('i')\n",
    "    else:\n",
    "        agg_df[c] = agg_df[c].fillna(0)"
   ]
  },
  {
   "cell_type": "code",
   "execution_count": null,
   "id": "c951b80f",
   "metadata": {},
   "outputs": [],
   "source": []
  }
 ],
 "metadata": {
  "kernelspec": {
   "display_name": "Python 3 (ipykernel)",
   "language": "python",
   "name": "python3"
  },
  "language_info": {
   "codemirror_mode": {
    "name": "ipython",
    "version": 3
   },
   "file_extension": ".py",
   "mimetype": "text/x-python",
   "name": "python",
   "nbconvert_exporter": "python",
   "pygments_lexer": "ipython3",
   "version": "3.9.7"
  }
 },
 "nbformat": 4,
 "nbformat_minor": 5
}
