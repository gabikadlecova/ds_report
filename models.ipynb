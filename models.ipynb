{
 "cells": [
  {
   "cell_type": "code",
   "execution_count": null,
   "id": "e8f67bd6",
   "metadata": {},
   "outputs": [],
   "source": [
    "\n",
    "# mean/box rating per month / yr agg by gender\n",
    "\n",
    "# korelace poctu her a ratingu"
   ]
  },
  {
   "cell_type": "code",
   "execution_count": 1,
   "id": "bbaf0784",
   "metadata": {},
   "outputs": [
    {
     "name": "stderr",
     "output_type": "stream",
     "text": [
      "/tmp/ipykernel_147459/750563276.py:5: DtypeWarning: Columns (7) have mixed types.Specify dtype option on import or set low_memory=False.\n",
      "  all_dfs = [pd.read_csv(file, sep='|') for file in data_files]\n"
     ]
    }
   ],
   "source": [
    "import glob\n",
    "import pandas as pd\n",
    "\n",
    "data_files = glob.glob(\"chess_ratings/*.csv\")\n",
    "all_dfs = [pd.read_csv(file, sep='|') for file in data_files]"
   ]
  },
  {
   "cell_type": "code",
   "execution_count": 2,
   "id": "7baacad0",
   "metadata": {},
   "outputs": [],
   "source": [
    "from spark_utils import preprocess_data\n",
    "\n",
    "data = pd.concat(all_dfs)\n",
    "data = preprocess_data(data)"
   ]
  },
  {
   "cell_type": "code",
   "execution_count": 3,
   "id": "ff070116",
   "metadata": {},
   "outputs": [
    {
     "name": "stderr",
     "output_type": "stream",
     "text": [
      "WARNING: An illegal reflective access operation has occurred\n",
      "WARNING: Illegal reflective access by org.apache.spark.unsafe.Platform (file:/opt/data/Gabi/miniconda3/envs/pyt/lib/python3.9/site-packages/pyspark/jars/spark-unsafe_2.12-3.2.1.jar) to constructor java.nio.DirectByteBuffer(long,int)\n",
      "WARNING: Please consider reporting this to the maintainers of org.apache.spark.unsafe.Platform\n",
      "WARNING: Use --illegal-access=warn to enable warnings of further illegal reflective access operations\n",
      "WARNING: All illegal access operations will be denied in a future release\n",
      "Using Spark's default log4j profile: org/apache/spark/log4j-defaults.properties\n",
      "Setting default log level to \"WARN\".\n",
      "To adjust logging level use sc.setLogLevel(newLevel). For SparkR, use setLogLevel(newLevel).\n",
      "22/05/24 12:42:01 WARN NativeCodeLoader: Unable to load native-hadoop library for your platform... using builtin-java classes where applicable\n"
     ]
    }
   ],
   "source": [
    "from pyspark.sql import SparkSession\n",
    "\n",
    "spark = SparkSession.builder \\\n",
    "    .master('local[*]') \\\n",
    "    .config(\"spark.driver.memory\", \"20g\") \\\n",
    "    .appName('chess-app') \\\n",
    "    .getOrCreate()\n",
    "\n",
    "spark.sparkContext.setLogLevel(\"ERROR\")"
   ]
  },
  {
   "cell_type": "code",
   "execution_count": 4,
   "id": "6f1e27a6",
   "metadata": {},
   "outputs": [],
   "source": [
    "spark.conf.set(\"spark.sql.execution.arrow.pyspark.enabled\", \"true\")\n",
    "\n",
    "df = spark.createDataFrame(data)"
   ]
  },
  {
   "cell_type": "code",
   "execution_count": 5,
   "id": "c951b80f",
   "metadata": {},
   "outputs": [],
   "source": [
    "seed = 42"
   ]
  },
  {
   "cell_type": "code",
   "execution_count": 6,
   "id": "b2604a37",
   "metadata": {},
   "outputs": [
    {
     "name": "stderr",
     "output_type": "stream",
     "text": [
      "                                                                                \r"
     ]
    }
   ],
   "source": [
    "import warnings\n",
    "from experiments import create_dataset\n",
    "\n",
    "data = create_dataset(df, n_months=6, last_year=2019, last_month=6)"
   ]
  },
  {
   "cell_type": "code",
   "execution_count": 7,
   "id": "a7e3ca6d",
   "metadata": {},
   "outputs": [
    {
     "data": {
      "text/plain": [
       "<module 'model_utils' from '/opt/data/Gabi/code/ds_report/model_utils.py'>"
      ]
     },
     "execution_count": 7,
     "metadata": {},
     "output_type": "execute_result"
    }
   ],
   "source": [
    "import importlib\n",
    "import model_utils\n",
    "importlib.reload(model_utils)"
   ]
  },
  {
   "cell_type": "code",
   "execution_count": 8,
   "id": "95c30909",
   "metadata": {},
   "outputs": [],
   "source": [
    "from model_utils import make_models\n",
    "\n",
    "models = make_models()\n",
    "test_model = models['PCA_20-RF_100']"
   ]
  },
  {
   "cell_type": "code",
   "execution_count": 9,
   "id": "b38283d8",
   "metadata": {},
   "outputs": [
    {
     "name": "stderr",
     "output_type": "stream",
     "text": [
      "                                                                                \r"
     ]
    }
   ],
   "source": [
    "data_equal = create_dataset(df, n_months=6, last_year=2019, last_month=6, bins='equal')"
   ]
  },
  {
   "cell_type": "code",
   "execution_count": 10,
   "id": "86a3806f",
   "metadata": {},
   "outputs": [],
   "source": [
    "from model_utils import get_data_split\n",
    "\n",
    "data = get_data_split(data)\n",
    "data_equal = get_data_split(data_equal)"
   ]
  },
  {
   "cell_type": "code",
   "execution_count": 13,
   "id": "21b4619c",
   "metadata": {},
   "outputs": [
    {
     "name": "stdout",
     "output_type": "stream",
     "text": [
      "{'auc': 0.7421994060034337, 'accuracy': 0.9024293254283855, 'cm': array([[22825,   668],\n",
      "       [ 2031,  2138]])}\n",
      "{'auc': 0.7433058378637296, 'accuracy': 0.9024654761044032, 'cm': array([[22815,   678],\n",
      "       [ 2020,  2149]])}\n"
     ]
    }
   ],
   "source": [
    "from model_utils import eval_model_on_data\n",
    "\n",
    "print(eval_model_on_data(data, test_model)['metrics'])\n",
    "print(eval_model_on_data(data_equal, test_model)['metrics'])"
   ]
  },
  {
   "cell_type": "code",
   "execution_count": 12,
   "id": "485e65b0",
   "metadata": {},
   "outputs": [
    {
     "data": {
      "text/plain": [
       "<module 'model_utils' from '/opt/data/Gabi/code/ds_report/model_utils.py'>"
      ]
     },
     "execution_count": 12,
     "metadata": {},
     "output_type": "execute_result"
    }
   ],
   "source": [
    "import importlib\n",
    "import model_utils\n",
    "importlib.reload(model_utils)"
   ]
  },
  {
   "cell_type": "code",
   "execution_count": null,
   "id": "1c499aa9",
   "metadata": {},
   "outputs": [],
   "source": []
  }
 ],
 "metadata": {
  "kernelspec": {
   "display_name": "Python 3 (ipykernel)",
   "language": "python",
   "name": "python3"
  },
  "language_info": {
   "codemirror_mode": {
    "name": "ipython",
    "version": 3
   },
   "file_extension": ".py",
   "mimetype": "text/x-python",
   "name": "python",
   "nbconvert_exporter": "python",
   "pygments_lexer": "ipython3",
   "version": "3.9.7"
  }
 },
 "nbformat": 4,
 "nbformat_minor": 5
}
