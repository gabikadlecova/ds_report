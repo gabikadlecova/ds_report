{
 "cells": [
  {
   "cell_type": "code",
   "execution_count": 1,
   "id": "69cac3a5",
   "metadata": {},
   "outputs": [
    {
     "name": "stderr",
     "output_type": "stream",
     "text": [
      "/tmp/ipykernel_3267/750563276.py:5: DtypeWarning: Columns (7) have mixed types.Specify dtype option on import or set low_memory=False.\n",
      "  all_dfs = [pd.read_csv(file, sep='|') for file in data_files]\n"
     ]
    }
   ],
   "source": [
    "import glob\n",
    "import pandas as pd\n",
    "\n",
    "data_files = glob.glob(\"chess_ratings/*.csv\")\n",
    "all_dfs = [pd.read_csv(file, sep='|') for file in data_files]"
   ]
  },
  {
   "cell_type": "code",
   "execution_count": 2,
   "id": "d3a79253",
   "metadata": {},
   "outputs": [],
   "source": [
    "data = pd.concat(all_dfs)\n",
    "del all_dfs\n",
    "data[\"Year / month\"] = [f\"{y} / {m if (len(str(m)) == 2) else ('0' + str(m))}\" for y, m in zip(data[\"Year\"], data[\"Mon\"])]"
   ]
  },
  {
   "cell_type": "code",
   "execution_count": 3,
   "id": "1e1132d2",
   "metadata": {},
   "outputs": [
    {
     "data": {
      "text/html": [
       "<div>\n",
       "<style scoped>\n",
       "    .dataframe tbody tr th:only-of-type {\n",
       "        vertical-align: middle;\n",
       "    }\n",
       "\n",
       "    .dataframe tbody tr th {\n",
       "        vertical-align: top;\n",
       "    }\n",
       "\n",
       "    .dataframe thead th {\n",
       "        text-align: right;\n",
       "    }\n",
       "</style>\n",
       "<table border=\"1\" class=\"dataframe\">\n",
       "  <thead>\n",
       "    <tr style=\"text-align: right;\">\n",
       "      <th></th>\n",
       "      <th>ID Number</th>\n",
       "      <th>Name</th>\n",
       "      <th>Fed</th>\n",
       "      <th>Sex</th>\n",
       "      <th>Tit</th>\n",
       "      <th>WTit</th>\n",
       "      <th>OTit</th>\n",
       "      <th>FOA</th>\n",
       "      <th>Rat</th>\n",
       "      <th>Gms</th>\n",
       "      <th>K</th>\n",
       "      <th>B-day</th>\n",
       "      <th>Flag</th>\n",
       "      <th>Year</th>\n",
       "      <th>Mon</th>\n",
       "      <th>Year / month</th>\n",
       "    </tr>\n",
       "  </thead>\n",
       "  <tbody>\n",
       "    <tr>\n",
       "      <th>0</th>\n",
       "      <td>644498</td>\n",
       "      <td>NaN</td>\n",
       "      <td>FRA</td>\n",
       "      <td>M</td>\n",
       "      <td>NaN</td>\n",
       "      <td>NaN</td>\n",
       "      <td>NaN</td>\n",
       "      <td>NaN</td>\n",
       "      <td>2008</td>\n",
       "      <td>1</td>\n",
       "      <td>20</td>\n",
       "      <td>0</td>\n",
       "      <td>NaN</td>\n",
       "      <td>2017</td>\n",
       "      <td>12</td>\n",
       "      <td>2017 / 12</td>\n",
       "    </tr>\n",
       "    <tr>\n",
       "      <th>1</th>\n",
       "      <td>20504578</td>\n",
       "      <td>NaN</td>\n",
       "      <td>MAW</td>\n",
       "      <td>M</td>\n",
       "      <td>NaN</td>\n",
       "      <td>NaN</td>\n",
       "      <td>NaN</td>\n",
       "      <td>NaN</td>\n",
       "      <td>1617</td>\n",
       "      <td>0</td>\n",
       "      <td>40</td>\n",
       "      <td>0</td>\n",
       "      <td>NaN</td>\n",
       "      <td>2017</td>\n",
       "      <td>12</td>\n",
       "      <td>2017 / 12</td>\n",
       "    </tr>\n",
       "    <tr>\n",
       "      <th>2</th>\n",
       "      <td>35077023</td>\n",
       "      <td>A Chakravarthy</td>\n",
       "      <td>IND</td>\n",
       "      <td>M</td>\n",
       "      <td>NaN</td>\n",
       "      <td>NaN</td>\n",
       "      <td>NaN</td>\n",
       "      <td>NaN</td>\n",
       "      <td>1151</td>\n",
       "      <td>0</td>\n",
       "      <td>40</td>\n",
       "      <td>1986</td>\n",
       "      <td>i</td>\n",
       "      <td>2017</td>\n",
       "      <td>12</td>\n",
       "      <td>2017 / 12</td>\n",
       "    </tr>\n",
       "    <tr>\n",
       "      <th>3</th>\n",
       "      <td>10207538</td>\n",
       "      <td>A E M, Doshtagir</td>\n",
       "      <td>BAN</td>\n",
       "      <td>M</td>\n",
       "      <td>NaN</td>\n",
       "      <td>NaN</td>\n",
       "      <td>NaN</td>\n",
       "      <td>NaN</td>\n",
       "      <td>1840</td>\n",
       "      <td>0</td>\n",
       "      <td>40</td>\n",
       "      <td>1974</td>\n",
       "      <td>i</td>\n",
       "      <td>2017</td>\n",
       "      <td>12</td>\n",
       "      <td>2017 / 12</td>\n",
       "    </tr>\n",
       "    <tr>\n",
       "      <th>4</th>\n",
       "      <td>10206612</td>\n",
       "      <td>A K M, Sourab</td>\n",
       "      <td>BAN</td>\n",
       "      <td>M</td>\n",
       "      <td>NaN</td>\n",
       "      <td>NaN</td>\n",
       "      <td>NaN</td>\n",
       "      <td>NaN</td>\n",
       "      <td>1708</td>\n",
       "      <td>4</td>\n",
       "      <td>40</td>\n",
       "      <td>0</td>\n",
       "      <td>NaN</td>\n",
       "      <td>2017</td>\n",
       "      <td>12</td>\n",
       "      <td>2017 / 12</td>\n",
       "    </tr>\n",
       "    <tr>\n",
       "      <th>...</th>\n",
       "      <td>...</td>\n",
       "      <td>...</td>\n",
       "      <td>...</td>\n",
       "      <td>...</td>\n",
       "      <td>...</td>\n",
       "      <td>...</td>\n",
       "      <td>...</td>\n",
       "      <td>...</td>\n",
       "      <td>...</td>\n",
       "      <td>...</td>\n",
       "      <td>...</td>\n",
       "      <td>...</td>\n",
       "      <td>...</td>\n",
       "      <td>...</td>\n",
       "      <td>...</td>\n",
       "      <td>...</td>\n",
       "    </tr>\n",
       "    <tr>\n",
       "      <th>352221</th>\n",
       "      <td>21836060</td>\n",
       "      <td>Zyto, Karol</td>\n",
       "      <td>POL</td>\n",
       "      <td>M</td>\n",
       "      <td>NaN</td>\n",
       "      <td>NaN</td>\n",
       "      <td>NaN</td>\n",
       "      <td>NaN</td>\n",
       "      <td>1071</td>\n",
       "      <td>0</td>\n",
       "      <td>40</td>\n",
       "      <td>2006</td>\n",
       "      <td>NaN</td>\n",
       "      <td>2019</td>\n",
       "      <td>12</td>\n",
       "      <td>2019 / 12</td>\n",
       "    </tr>\n",
       "    <tr>\n",
       "      <th>352222</th>\n",
       "      <td>34190632</td>\n",
       "      <td>Zyubin, Sergey</td>\n",
       "      <td>RUS</td>\n",
       "      <td>M</td>\n",
       "      <td>NaN</td>\n",
       "      <td>NaN</td>\n",
       "      <td>NaN</td>\n",
       "      <td>NaN</td>\n",
       "      <td>1884</td>\n",
       "      <td>0</td>\n",
       "      <td>40</td>\n",
       "      <td>1975</td>\n",
       "      <td>i</td>\n",
       "      <td>2019</td>\n",
       "      <td>12</td>\n",
       "      <td>2019 / 12</td>\n",
       "    </tr>\n",
       "    <tr>\n",
       "      <th>352223</th>\n",
       "      <td>24232602</td>\n",
       "      <td>Zyuzev, Pavel</td>\n",
       "      <td>RUS</td>\n",
       "      <td>M</td>\n",
       "      <td>NaN</td>\n",
       "      <td>NaN</td>\n",
       "      <td>NaN</td>\n",
       "      <td>NaN</td>\n",
       "      <td>1852</td>\n",
       "      <td>0</td>\n",
       "      <td>40</td>\n",
       "      <td>1993</td>\n",
       "      <td>i</td>\n",
       "      <td>2019</td>\n",
       "      <td>12</td>\n",
       "      <td>2019 / 12</td>\n",
       "    </tr>\n",
       "    <tr>\n",
       "      <th>352224</th>\n",
       "      <td>1189980</td>\n",
       "      <td>Zywert, Kacper</td>\n",
       "      <td>POL</td>\n",
       "      <td>M</td>\n",
       "      <td>NaN</td>\n",
       "      <td>NaN</td>\n",
       "      <td>NaN</td>\n",
       "      <td>NaN</td>\n",
       "      <td>1565</td>\n",
       "      <td>0</td>\n",
       "      <td>20</td>\n",
       "      <td>1999</td>\n",
       "      <td>i</td>\n",
       "      <td>2019</td>\n",
       "      <td>12</td>\n",
       "      <td>2019 / 12</td>\n",
       "    </tr>\n",
       "    <tr>\n",
       "      <th>352225</th>\n",
       "      <td>21857814</td>\n",
       "      <td>Zyznowska, Marianna</td>\n",
       "      <td>POL</td>\n",
       "      <td>F</td>\n",
       "      <td>NaN</td>\n",
       "      <td>NaN</td>\n",
       "      <td>NaN</td>\n",
       "      <td>NaN</td>\n",
       "      <td>1150</td>\n",
       "      <td>0</td>\n",
       "      <td>40</td>\n",
       "      <td>2004</td>\n",
       "      <td>wi</td>\n",
       "      <td>2019</td>\n",
       "      <td>12</td>\n",
       "      <td>2019 / 12</td>\n",
       "    </tr>\n",
       "  </tbody>\n",
       "</table>\n",
       "<p>8081358 rows × 16 columns</p>\n",
       "</div>"
      ],
      "text/plain": [
       "        ID Number                 Name  Fed Sex  Tit WTit OTit  FOA   Rat  \\\n",
       "0          644498                  NaN  FRA   M  NaN  NaN  NaN  NaN  2008   \n",
       "1        20504578                  NaN  MAW   M  NaN  NaN  NaN  NaN  1617   \n",
       "2        35077023       A Chakravarthy  IND   M  NaN  NaN  NaN  NaN  1151   \n",
       "3        10207538     A E M, Doshtagir  BAN   M  NaN  NaN  NaN  NaN  1840   \n",
       "4        10206612        A K M, Sourab  BAN   M  NaN  NaN  NaN  NaN  1708   \n",
       "...           ...                  ...  ...  ..  ...  ...  ...  ...   ...   \n",
       "352221   21836060          Zyto, Karol  POL   M  NaN  NaN  NaN  NaN  1071   \n",
       "352222   34190632       Zyubin, Sergey  RUS   M  NaN  NaN  NaN  NaN  1884   \n",
       "352223   24232602        Zyuzev, Pavel  RUS   M  NaN  NaN  NaN  NaN  1852   \n",
       "352224    1189980       Zywert, Kacper  POL   M  NaN  NaN  NaN  NaN  1565   \n",
       "352225   21857814  Zyznowska, Marianna  POL   F  NaN  NaN  NaN  NaN  1150   \n",
       "\n",
       "        Gms   K  B-day Flag  Year  Mon Year / month  \n",
       "0         1  20      0  NaN  2017   12    2017 / 12  \n",
       "1         0  40      0  NaN  2017   12    2017 / 12  \n",
       "2         0  40   1986    i  2017   12    2017 / 12  \n",
       "3         0  40   1974    i  2017   12    2017 / 12  \n",
       "4         4  40      0  NaN  2017   12    2017 / 12  \n",
       "...     ...  ..    ...  ...   ...  ...          ...  \n",
       "352221    0  40   2006  NaN  2019   12    2019 / 12  \n",
       "352222    0  40   1975    i  2019   12    2019 / 12  \n",
       "352223    0  40   1993    i  2019   12    2019 / 12  \n",
       "352224    0  20   1999    i  2019   12    2019 / 12  \n",
       "352225    0  40   2004   wi  2019   12    2019 / 12  \n",
       "\n",
       "[8081358 rows x 16 columns]"
      ]
     },
     "execution_count": 3,
     "metadata": {},
     "output_type": "execute_result"
    }
   ],
   "source": [
    "data"
   ]
  },
  {
   "cell_type": "code",
   "execution_count": 4,
   "id": "7463646e",
   "metadata": {},
   "outputs": [],
   "source": [
    "# unify flag columns\n",
    "data.loc[data['Flag'] == 'wi', 'Flag'] = 'i'\n",
    "data.loc[data['Flag'] == 'w', 'Flag'] = ''"
   ]
  },
  {
   "cell_type": "code",
   "execution_count": 7,
   "id": "5e262ddd",
   "metadata": {},
   "outputs": [
    {
     "name": "stderr",
     "output_type": "stream",
     "text": [
      "22/05/15 19:27:20 WARN Utils: Your hostname, NB403387 resolves to a loopback address: 127.0.1.1; using 192.168.112.214 instead (on interface eth0)\n",
      "22/05/15 19:27:20 WARN Utils: Set SPARK_LOCAL_IP if you need to bind to another address\n",
      "WARNING: An illegal reflective access operation has occurred\n",
      "WARNING: Illegal reflective access by org.apache.spark.unsafe.Platform (file:/home/gabi/.env/lib/python3.8/site-packages/pyspark/jars/spark-unsafe_2.12-3.2.1.jar) to constructor java.nio.DirectByteBuffer(long,int)\n",
      "WARNING: Please consider reporting this to the maintainers of org.apache.spark.unsafe.Platform\n",
      "WARNING: Use --illegal-access=warn to enable warnings of further illegal reflective access operations\n",
      "WARNING: All illegal access operations will be denied in a future release\n",
      "Using Spark's default log4j profile: org/apache/spark/log4j-defaults.properties\n",
      "Setting default log level to \"WARN\".\n",
      "To adjust logging level use sc.setLogLevel(newLevel). For SparkR, use setLogLevel(newLevel).\n",
      "22/05/15 19:27:22 WARN NativeCodeLoader: Unable to load native-hadoop library for your platform... using builtin-java classes where applicable\n"
     ]
    }
   ],
   "source": [
    "from pyspark.sql import SparkSession\n",
    "\n",
    "spark = SparkSession.builder \\\n",
    "    .master('local[*]') \\\n",
    "    .config(\"spark.driver.memory\", \"8g\") \\\n",
    "    .appName('chess-app') \\\n",
    "    .getOrCreate()"
   ]
  },
  {
   "cell_type": "code",
   "execution_count": 8,
   "id": "6b0ba610",
   "metadata": {},
   "outputs": [],
   "source": [
    "string_cols = ['Name', 'Tit', 'WTit', 'OTit', 'FOA', 'Flag']\n",
    "\n",
    "data[string_cols] = data[string_cols].fillna('')"
   ]
  },
  {
   "cell_type": "code",
   "execution_count": 9,
   "id": "2ef3c5c6",
   "metadata": {},
   "outputs": [
    {
     "data": {
      "text/plain": [
       "DataFrame[ID Number: bigint, Name: string, Fed: string, Sex: string, Tit: string, WTit: string, OTit: string, FOA: string, Rat: bigint, Gms: bigint, K: bigint, B-day: bigint, Flag: string, Year: bigint, Mon: bigint, Year / month: string]"
      ]
     },
     "execution_count": 9,
     "metadata": {},
     "output_type": "execute_result"
    }
   ],
   "source": [
    "smol = data[data[\"ID Number\"] > 100000000]\n",
    "#smol = data.drop(columns=['Name', 'Fed', 'Sex', 'B-day', 'Year / month'])\n",
    "\n",
    "df = spark.createDataFrame(smol)\n",
    "df"
   ]
  },
  {
   "cell_type": "code",
   "execution_count": 8,
   "id": "1daaf7fa",
   "metadata": {
    "scrolled": true
   },
   "outputs": [
    {
     "name": "stderr",
     "output_type": "stream",
     "text": [
      "\r",
      "[Stage 0:>                                                          (0 + 1) / 1]\r"
     ]
    },
    {
     "name": "stdout",
     "output_type": "stream",
     "text": [
      "+---------+--------------------+---+---+---+----+----+---+----+---+---+-----+----+----+---+------------+\n",
      "|ID Number|                Name|Fed|Sex|Tit|WTit|OTit|FOA| Rat|Gms|  K|B-day|Flag|Year|Mon|Year / month|\n",
      "+---------+--------------------+---+---+---+----+----+---+----+---+---+-----+----+----+---+------------+\n",
      "|332244031|Acevedoarango, Ed...|COL|  M|   |    |    |   |1477|  0| 40| 1968|    |2017| 12|   2017 / 12|\n",
      "|351043662|    Ackermann, Bernd|FRA|  M|   |    |    |   |1505|  0| 40| 1964|    |2017| 12|   2017 / 12|\n",
      "|373200321|     Albonico, Carlo|ITA|  M|   |    |    |   |1622|  0| 40| 1957|   i|2017| 12|   2017 / 12|\n",
      "|324226816|Alves, Marcos Vil...|BRA|  M|   |    |    |   |1607|  0| 40| 1987|    |2017| 12|   2017 / 12|\n",
      "|383266891|        Alzaid, Zaid|KUW|  M|   |    |    |   |1308|  5| 20| 1972|    |2017| 12|   2017 / 12|\n",
      "+---------+--------------------+---+---+---+----+----+---+----+---+---+-----+----+----+---+------------+\n",
      "only showing top 5 rows\n",
      "\n"
     ]
    },
    {
     "name": "stderr",
     "output_type": "stream",
     "text": [
      "\r",
      "                                                                                \r"
     ]
    }
   ],
   "source": [
    "df.show(5)"
   ]
  },
  {
   "cell_type": "code",
   "execution_count": null,
   "id": "3294e3ea",
   "metadata": {},
   "outputs": [],
   "source": []
  },
  {
   "cell_type": "code",
   "execution_count": 10,
   "id": "5e8c2089",
   "metadata": {
    "scrolled": true
   },
   "outputs": [],
   "source": [
    "import numpy as np\n",
    "\n",
    "\n",
    "def get_mean(df):\n",
    "    return df.mapValues(lambda v: (v, 1)) \\\n",
    "             .reduceByKey(lambda a, b: (a[0] + b[0], a[1] + b[1])) \\\n",
    "             .mapValues(lambda v: v[0] / v[1]) \\\n",
    "\n",
    "\n",
    "def get_sum(df):\n",
    "    return df.reduceByKey(lambda a, b: a + b)\n",
    "\n",
    "\n",
    "def get_string(df):    \n",
    "    return df.reduceByKey(lambda a, b: (a if len(a) > len(b) else b))\n",
    "\n",
    "\n",
    "def zip_apply(f, x, y):\n",
    "    if isinstance(x, list):\n",
    "        return [f(a, b) for a, b in zip(x, y)]\n",
    "    return f(x, y)\n",
    "\n",
    "\n",
    "def reduce_by_months(df, what, agg_func, agg_func_name='', n_months=1):\n",
    "    idmap = {c: i for i, c in enumerate(df.columns)}\n",
    "    name = f\"{what}:{agg_func_name}\"\n",
    "        \n",
    "    if n_months > 12:\n",
    "        raise ValueError(\"Invalid months: \", n_months)\n",
    "    elif n_months == 12:\n",
    "        key_func = lambda x: (x[idmap['ID Number']], x[idmap['Year']])\n",
    "        out_key_func = lambda x: (x[0][0], f\"{name}/{x[0][1]}//yearly\", x[1])\n",
    "    else:\n",
    "        key_func = lambda x: (x[idmap['ID Number']], x[idmap['Year']], x[idmap['Mon']] // n_months)\n",
    "        out_key_func = lambda x: (x[0][0], f\"{name}/{x[0][1]}/{int(x[0][2] * n_months)}/{n_months}\", x[1])\n",
    "    \n",
    "    if isinstance(what, list):\n",
    "        res = df.rdd.map(lambda x: (key_func(x), tuple([x[idmap[w]] for w in what])))\n",
    "    else:\n",
    "        res = df.rdd.map(lambda x: (key_func(x), x[idmap[what]]))\n",
    "\n",
    "    res = agg_func(res)\n",
    "    res = res.map(out_key_func) \\\n",
    "             .toDF(['ID Number', 'Colname', name])\n",
    "    \n",
    "    return res"
   ]
  },
  {
   "cell_type": "code",
   "execution_count": 26,
   "id": "e225a119",
   "metadata": {
    "scrolled": true
   },
   "outputs": [
    {
     "name": "stdout",
     "output_type": "stream",
     "text": [
      "+---------+---------------------+---------------------+---------------------+\n",
      "|ID Number|Rat:mean/2017//yearly|Rat:mean/2018//yearly|Rat:mean/2019//yearly|\n",
      "+---------+---------------------+---------------------+---------------------+\n",
      "|345279188|               1333.0|   1357.6666666666667|   1373.0833333333333|\n",
      "|327137030|               1996.0|               1996.0|               1996.0|\n",
      "|651017121|                 null|                 null|               1341.0|\n",
      "|551023512|                 null|               1187.0|               1187.0|\n",
      "|551026147|                 null|               1489.0|   1545.6666666666667|\n",
      "+---------+---------------------+---------------------+---------------------+\n",
      "only showing top 5 rows\n",
      "\n"
     ]
    }
   ],
   "source": [
    "red = reduce_by_months(df, 'Rat', get_mean, agg_func_name='mean', n_months=12) \\\n",
    "        .groupBy('ID Number') \\\n",
    "        .pivot('Colname') \\\n",
    "        .max('Rat:mean')\n",
    "\n",
    "red.show(5)"
   ]
  },
  {
   "cell_type": "code",
   "execution_count": 11,
   "id": "ab2e97c5",
   "metadata": {},
   "outputs": [
    {
     "name": "stdout",
     "output_type": "stream",
     "text": [
      "+---------+---------+--------+---------+--------+--------+---------+--------+\n",
      "|ID Number|2017/12/6|2018/0/6|2018/12/6|2018/6/6|2019/0/6|2019/12/6|2019/6/6|\n",
      "+---------+---------+--------+---------+--------+--------+---------+--------+\n",
      "|551023512|     null|       8|        0|       0|       0|        0|       0|\n",
      "|327137030|        0|       0|        0|       0|       0|        0|       0|\n",
      "|551061635|     null|    null|     null|    null|      10|        0|      10|\n",
      "|551026147|     null|    null|        0|       5|       6|        0|       0|\n",
      "|345279188|        0|       3|        0|      12|       4|        0|      13|\n",
      "+---------+---------+--------+---------+--------+--------+---------+--------+\n",
      "only showing top 5 rows\n",
      "\n"
     ]
    }
   ],
   "source": [
    "red = reduce_by_months(df, 'Gms', get_sum, agg_func_name='sum', n_months=6) \\\n",
    "        .groupBy('ID Number') \\\n",
    "        .pivot('Colname') \\\n",
    "        .max('Gms:sum')\n",
    "\n",
    "red.show(5)"
   ]
  },
  {
   "cell_type": "code",
   "execution_count": 32,
   "id": "720a3b97",
   "metadata": {},
   "outputs": [
    {
     "name": "stdout",
     "output_type": "stream",
     "text": [
      "+---------+--------------------+--------------------+--------------------+\n",
      "|ID Number|Gms:sum/2017//yearly|Gms:sum/2018//yearly|Gms:sum/2019//yearly|\n",
      "+---------+--------------------+--------------------+--------------------+\n",
      "|345279188|                   0|                  15|                  17|\n",
      "|327137030|                   0|                   0|                   0|\n",
      "|651017121|                null|                null|                   9|\n",
      "|551026147|                null|                   5|                   6|\n",
      "|551023512|                null|                   8|                   0|\n",
      "+---------+--------------------+--------------------+--------------------+\n",
      "only showing top 5 rows\n",
      "\n"
     ]
    }
   ],
   "source": [
    "red = reduce_by_months(df, 'Gms', get_sum, agg_func_name='sum', n_months=12) \\\n",
    "        .groupBy('ID Number') \\\n",
    "        .pivot('Colname') \\\n",
    "        .max('Gms:sum')\n",
    "\n",
    "red.show(5)"
   ]
  },
  {
   "cell_type": "code",
   "execution_count": 30,
   "id": "79619d2c",
   "metadata": {},
   "outputs": [
    {
     "name": "stdout",
     "output_type": "stream",
     "text": [
      "+---------+--------------------+--------------------+--------------------+\n",
      "|ID Number|Tit:str/2017//yearly|Tit:str/2018//yearly|Tit:str/2019//yearly|\n",
      "+---------+--------------------+--------------------+--------------------+\n",
      "|345279188|                   1|                   1|                   1|\n",
      "|327137030|                   1|                   1|                   1|\n",
      "|651017121|                null|                null|                   1|\n",
      "|551026147|                null|                   1|                   1|\n",
      "|551023512|                null|                   1|                   1|\n",
      "+---------+--------------------+--------------------+--------------------+\n",
      "only showing top 5 rows\n",
      "\n"
     ]
    }
   ],
   "source": [
    "red = reduce_by_months(df, 'Tit', get_string, agg_func_name='str', n_months=12) \\\n",
    "        .groupBy('ID Number') \\\n",
    "        .pivot('Colname').count()\n",
    "\n",
    "red.show(5)"
   ]
  },
  {
   "cell_type": "code",
   "execution_count": 20,
   "id": "1328fc4d",
   "metadata": {},
   "outputs": [
    {
     "name": "stdout",
     "output_type": "stream",
     "text": [
      "+---------+------------------+---+---+---+----+----+---+----+---+---+-----+----+----+---+------------+\n",
      "|ID Number|              Name|Fed|Sex|Tit|WTit|OTit|FOA| Rat|Gms|  K|B-day|Flag|Year|Mon|Year / month|\n",
      "+---------+------------------+---+---+---+----+----+---+----+---+---+-----+----+----+---+------------+\n",
      "|137122537|   Tonoyan, Robert|FID|  M|   |    |    |   |1880|  2| 20| 1994|    |2018|  4|   2018 / 04|\n",
      "|551012243|Jourd`hui, Trystan|FRA|  M|   |    |    |   |1184|  0| 40| 2004|    |2018|  5|   2018 / 05|\n",
      "|366196523|  Kulkarni, Rakesh|IND|  M|   |    |    |AIM|1340|  0| 40| 1984|    |2018|  5|   2018 / 05|\n",
      "|551000067|  Pironti, Nicolas|FRA|  M|   |    |    |   |1353|  1| 40| 1958|    |2018|  5|   2018 / 05|\n",
      "|551013886|    Poirson, Simon|FRA|  M|   |    |    |   |1333|  0| 40| 2003|    |2018|  5|   2018 / 05|\n",
      "+---------+------------------+---+---+---+----+----+---+----+---+---+-----+----+----+---+------------+\n",
      "only showing top 5 rows\n",
      "\n"
     ]
    }
   ],
   "source": [
    "df.drop_duplicates().show(5)"
   ]
  },
  {
   "cell_type": "code",
   "execution_count": 11,
   "id": "c27e64d4",
   "metadata": {},
   "outputs": [],
   "source": [
    "# TODO move this to utils\n",
    "\n",
    "def parse_column(c):\n",
    "    year = c[:4]\n",
    "    if 'yearly' in c:\n",
    "        return year, None\n",
    "    \n",
    "    mon = c.split('/')[1]\n",
    "    return year, mon\n",
    "\n",
    "\n",
    "def drop_conditions(c, last_year=2019, last_month=None):\n",
    "    c = parse_column(c)\n",
    "    if last_month is None and c[0] >= last_year:\n",
    "        return True\n",
    "    \n",
    "    if last_month is None:\n",
    "        return False\n",
    "    \n",
    "    return c[0] >= last_year and c[1] >= last_month\n",
    "    \n",
    "\n",
    "def x_y_split(df, last_year=2019, last_month=None):\n",
    "    drop_cols = [c for c in df.columns if '201' in c and drop_conditions(c)]\n",
    "    \n",
    "    for c in drop_cols:\n",
    "        c = parse_column(c)\n",
    "        \n",
    "        if c[0] != last_year:\n",
    "            continue\n",
    "        if last_month is None or c[1] != last_month:\n",
    "            continue\n",
    "\n",
    "        y_col = c\n",
    "        \n",
    "    x_data = df.drop(columns=drop_cols)\n",
    "    y_data = df[y_col]\n",
    "    \n",
    "    return x_data, y_data"
   ]
  },
  {
   "cell_type": "code",
   "execution_count": 12,
   "id": "d4b5ac2d",
   "metadata": {},
   "outputs": [],
   "source": [
    "name_to_func = {\n",
    "    'sum': get_sum,\n",
    "    'mean': get_mean,\n",
    "    'str': get_string\n",
    "}\n",
    "\n",
    "def get_dataset(df, select_data, n_months=12):\n",
    "    base_df = df.drop_duplicates().select('ID Number', 'Sex', 'K', 'B-day', 'Flag')\n",
    "    \n",
    "    for what, func in select_data:\n",
    "        red = reduce_by_months(df, what, name_to_func[func], agg_func_name=func, n_months=n_months) \\\n",
    "            .groupBy('ID Number') \\\n",
    "            .pivot('Colname')\n",
    "        \n",
    "        red = red.count() if func == 'str' else red.max(f'{what}:{func}')\n",
    "        base_df = base_df.join(red)\n",
    "    del red\n",
    "        \n",
    "    return base_df"
   ]
  },
  {
   "cell_type": "code",
   "execution_count": null,
   "id": "8a0b28f0",
   "metadata": {},
   "outputs": [],
   "source": [
    "spark.conf.set(\"spark.sql.execution.arrow.pyspark.enabled\", \"true\")\n",
    "pdf = get_dataset(df, [('Gms', 'sum'), ('Tit', 'str')]).toPandas()"
   ]
  },
  {
   "cell_type": "code",
   "execution_count": null,
   "id": "9e9ca5f6",
   "metadata": {},
   "outputs": [],
   "source": []
  }
 ],
 "metadata": {
  "kernelspec": {
   "display_name": "Python 3 (ipykernel)",
   "language": "python",
   "name": "python3"
  },
  "language_info": {
   "codemirror_mode": {
    "name": "ipython",
    "version": 3
   },
   "file_extension": ".py",
   "mimetype": "text/x-python",
   "name": "python",
   "nbconvert_exporter": "python",
   "pygments_lexer": "ipython3",
   "version": "3.8.10"
  }
 },
 "nbformat": 4,
 "nbformat_minor": 5
}
