{
 "cells": [
  {
   "cell_type": "code",
   "execution_count": 1,
   "id": "dba12989",
   "metadata": {},
   "outputs": [
    {
     "name": "stderr",
     "output_type": "stream",
     "text": [
      "/tmp/ipykernel_40212/750563276.py:5: DtypeWarning: Columns (7) have mixed types.Specify dtype option on import or set low_memory=False.\n",
      "  all_dfs = [pd.read_csv(file, sep='|') for file in data_files]\n"
     ]
    }
   ],
   "source": [
    "import glob\n",
    "import pandas as pd\n",
    "\n",
    "data_files = glob.glob(\"chess_ratings/*.csv\")\n",
    "all_dfs = [pd.read_csv(file, sep='|') for file in data_files]"
   ]
  },
  {
   "cell_type": "code",
   "execution_count": 2,
   "id": "63b78671",
   "metadata": {},
   "outputs": [],
   "source": [
    "data = pd.concat(all_dfs)\n",
    "del all_dfs\n",
    "data[\"Year / month\"] = [f\"{y} / {m if (len(str(m)) == 2) else ('0' + str(m))}\" for y, m in zip(data[\"Year\"], data[\"Mon\"])]\n",
    "\n",
    "data['age'] = (2019 - data['B-day']).astype('int')\n",
    "data = data[(data['age'] > 5) & (data['age'] < 110)].copy()"
   ]
  },
  {
   "cell_type": "code",
   "execution_count": 3,
   "id": "fd0454b5",
   "metadata": {},
   "outputs": [],
   "source": [
    "# unify flag columns\n",
    "data.loc[data['Flag'] == 'wi', 'Flag'] = 'i'\n",
    "data.loc[data['Flag'] == 'w', 'Flag'] = ''"
   ]
  },
  {
   "cell_type": "code",
   "execution_count": 4,
   "id": "6d6b4aed",
   "metadata": {},
   "outputs": [],
   "source": [
    "string_cols = ['Name', 'Tit', 'WTit', 'OTit', 'FOA', 'Flag']\n",
    "\n",
    "data[string_cols] = data[string_cols].fillna('')"
   ]
  },
  {
   "cell_type": "code",
   "execution_count": 5,
   "id": "4fb323f4",
   "metadata": {},
   "outputs": [],
   "source": [
    "female_tit = [\"None\", \"WCM\", \"WFM\", \"WIM\", \"WGM\"]\n",
    "tit = [\"None\", \"CM\", \"FM\", \"IM\", \"GM\"]\n",
    "\n",
    "female_tit = {t: i for i, t in enumerate(female_tit)}\n",
    "tit = {t: i for i, t in enumerate(tit)}\n",
    "\n",
    "data['tit'] = [(0 if t not in tit else tit[t]) for t in data['Tit']]\n",
    "data['wtit'] = [(0 if t not in female_tit else female_tit[t]) for t in data['Tit']]"
   ]
  },
  {
   "cell_type": "code",
   "execution_count": 6,
   "id": "ad17bcb4",
   "metadata": {},
   "outputs": [
    {
     "name": "stderr",
     "output_type": "stream",
     "text": [
      "WARNING: An illegal reflective access operation has occurred\n",
      "WARNING: Illegal reflective access by org.apache.spark.unsafe.Platform (file:/opt/data/Gabi/miniconda3/envs/pyt/lib/python3.9/site-packages/pyspark/jars/spark-unsafe_2.12-3.2.1.jar) to constructor java.nio.DirectByteBuffer(long,int)\n",
      "WARNING: Please consider reporting this to the maintainers of org.apache.spark.unsafe.Platform\n",
      "WARNING: Use --illegal-access=warn to enable warnings of further illegal reflective access operations\n",
      "WARNING: All illegal access operations will be denied in a future release\n",
      "Using Spark's default log4j profile: org/apache/spark/log4j-defaults.properties\n",
      "Setting default log level to \"WARN\".\n",
      "To adjust logging level use sc.setLogLevel(newLevel). For SparkR, use setLogLevel(newLevel).\n",
      "22/05/18 13:07:02 WARN NativeCodeLoader: Unable to load native-hadoop library for your platform... using builtin-java classes where applicable\n"
     ]
    }
   ],
   "source": [
    "from pyspark.sql import SparkSession\n",
    "\n",
    "spark = SparkSession.builder \\\n",
    "    .master('local[*]') \\\n",
    "    .config(\"spark.driver.memory\", \"20g\") \\\n",
    "    .appName('chess-app') \\\n",
    "    .getOrCreate()"
   ]
  },
  {
   "cell_type": "code",
   "execution_count": 7,
   "id": "8fca884d",
   "metadata": {},
   "outputs": [
    {
     "data": {
      "text/plain": [
       "DataFrame[ID Number: bigint, Name: string, Fed: string, Sex: string, Tit: string, WTit: string, OTit: string, FOA: string, Rat: bigint, Gms: bigint, K: bigint, B-day: bigint, Flag: string, Year: bigint, Mon: bigint, Year / month: string, age: bigint, tit: bigint, wtit: bigint]"
      ]
     },
     "execution_count": 7,
     "metadata": {},
     "output_type": "execute_result"
    }
   ],
   "source": [
    "#smol = data[data[\"ID Number\"] > 100000000]\n",
    "#smol = data.drop(columns=['Name', 'Fed', 'Sex', 'B-day', 'Year / month'])\n",
    "smol = data\n",
    "\n",
    "\n",
    "spark.conf.set(\"spark.sql.execution.arrow.pyspark.enabled\", \"true\")\n",
    "\n",
    "df = spark.createDataFrame(smol)\n",
    "df"
   ]
  },
  {
   "cell_type": "code",
   "execution_count": 8,
   "id": "3edbe298",
   "metadata": {
    "scrolled": true
   },
   "outputs": [
    {
     "name": "stderr",
     "output_type": "stream",
     "text": [
      "22/05/18 13:02:51 WARN TaskSetManager: Stage 0 contains a task of very large size (35211 KiB). The maximum recommended task size is 1000 KiB.\n",
      "\r",
      "[Stage 0:>                                                          (0 + 1) / 1]\r"
     ]
    },
    {
     "name": "stdout",
     "output_type": "stream",
     "text": [
      "+---------+----------------+---+---+---+----+----+---+----+---+---+-----+----+----+---+------------+---+---+----+\n",
      "|ID Number|            Name|Fed|Sex|Tit|WTit|OTit|FOA| Rat|Gms|  K|B-day|Flag|Year|Mon|Year / month|age|tit|wtit|\n",
      "+---------+----------------+---+---+---+----+----+---+----+---+---+-----+----+----+---+------------+---+---+----+\n",
      "| 35077023|  A Chakravarthy|IND|  M|   |    |    |   |1151|  0| 40| 1986|   i|2018|  8|   2018 / 08| 33|  0|   0|\n",
      "| 10207538|A E M, Doshtagir|BAN|  M|   |    |    |   |1840|  0| 40| 1974|   i|2018|  8|   2018 / 08| 45|  0|   0|\n",
      "|  5716365| A Hamid, Harman|MAS|  M|   |    |  NI|   |1325|  6| 40| 1970|    |2018|  8|   2018 / 08| 49|  0|   0|\n",
      "|  5045886|   A K, Kalshyan|IND|  M|   |    |    |   |1826| 10| 20| 1964|    |2018|  8|   2018 / 08| 55|  0|   0|\n",
      "|  8605360|  A La, Teng Hua|CHN|  F|   |    |    |   |1915|  0| 40| 1993|   i|2018|  8|   2018 / 08| 26|  0|   0|\n",
      "+---------+----------------+---+---+---+----+----+---+----+---+---+-----+----+----+---+------------+---+---+----+\n",
      "only showing top 5 rows\n",
      "\n"
     ]
    },
    {
     "name": "stderr",
     "output_type": "stream",
     "text": [
      "\r",
      "                                                                                \r"
     ]
    }
   ],
   "source": [
    "df.show(5)"
   ]
  },
  {
   "cell_type": "code",
   "execution_count": null,
   "id": "06c484fd",
   "metadata": {},
   "outputs": [],
   "source": []
  },
  {
   "cell_type": "code",
   "execution_count": 11,
   "id": "fde0f10f",
   "metadata": {
    "scrolled": true
   },
   "outputs": [],
   "source": [
    "import numpy as np\n",
    "from spark_utils import get_mean, get_sum, get_string, reduce_by_months, get_max\n"
   ]
  },
  {
   "cell_type": "code",
   "execution_count": 25,
   "id": "a10e0431",
   "metadata": {
    "scrolled": true
   },
   "outputs": [
    {
     "name": "stderr",
     "output_type": "stream",
     "text": [
      "22/05/18 12:27:31 WARN TaskSetManager: Stage 762 contains a task of very large size (31371 KiB). The maximum recommended task size is 1000 KiB.\n",
      "[Stage 774:=====================================================> (31 + 1) / 32]\r"
     ]
    },
    {
     "name": "stdout",
     "output_type": "stream",
     "text": [
      "+---------+---------------------+---------------------+---------------------+\n",
      "|ID Number|Rat:mean/2017//yearly|Rat:mean/2018//yearly|Rat:mean/2019//yearly|\n",
      "+---------+---------------------+---------------------+---------------------+\n",
      "| 42507359|               1577.0|               1577.0|   1529.3333333333333|\n",
      "|   928453|               2048.0|               2048.0|   2047.3333333333333|\n",
      "|  3520005|               2033.0|               2033.0|               2033.0|\n",
      "| 24646245|               1742.0|               1742.0|               1742.0|\n",
      "| 46628100|               1466.0|               1466.0|               1466.0|\n",
      "+---------+---------------------+---------------------+---------------------+\n",
      "only showing top 5 rows\n",
      "\n"
     ]
    },
    {
     "name": "stderr",
     "output_type": "stream",
     "text": [
      "\r",
      "                                                                                \r"
     ]
    }
   ],
   "source": [
    "red = reduce_by_months(df, 'Rat', get_mean, agg_func_name='mean', n_months=12) \\\n",
    "        .groupBy('ID Number') \\\n",
    "        .pivot('Colname') \\\n",
    "        .max('Rat:mean')\n",
    "\n",
    "red.show(5)"
   ]
  },
  {
   "cell_type": "code",
   "execution_count": 26,
   "id": "88bc383d",
   "metadata": {},
   "outputs": [
    {
     "name": "stderr",
     "output_type": "stream",
     "text": [
      "22/05/18 12:27:52 WARN TaskSetManager: Stage 782 contains a task of very large size (31371 KiB). The maximum recommended task size is 1000 KiB.\n",
      "[Stage 794:=>                                                     (1 + 31) / 32]\r"
     ]
    },
    {
     "name": "stdout",
     "output_type": "stream",
     "text": [
      "+---------+-----------------+----------------+-----------------+----------------+----------------+-----------------+----------------+\n",
      "|ID Number|Gms:sum/2017/12/6|Gms:sum/2018/0/6|Gms:sum/2018/12/6|Gms:sum/2018/6/6|Gms:sum/2019/0/6|Gms:sum/2019/12/6|Gms:sum/2019/6/6|\n",
      "+---------+-----------------+----------------+-----------------+----------------+----------------+-----------------+----------------+\n",
      "|   352217|                0|               0|                0|               0|               0|                0|               0|\n",
      "| 44560974|             null|            null|                0|               7|               0|                0|               0|\n",
      "| 16246144|                0|               7|                0|               0|              16|                0|               8|\n",
      "| 21834318|                0|               0|                0|               0|               7|                0|               0|\n",
      "| 46695168|                0|               0|                0|               0|               0|                0|               0|\n",
      "+---------+-----------------+----------------+-----------------+----------------+----------------+-----------------+----------------+\n",
      "only showing top 5 rows\n",
      "\n"
     ]
    },
    {
     "name": "stderr",
     "output_type": "stream",
     "text": [
      "\r",
      "                                                                                \r"
     ]
    }
   ],
   "source": [
    "red = reduce_by_months(df, 'Gms', get_sum, agg_func_name='sum', n_months=6) \\\n",
    "        .groupBy('ID Number') \\\n",
    "        .pivot('Colname') \\\n",
    "        .max('Gms:sum')\n",
    "\n",
    "red.show(5)"
   ]
  },
  {
   "cell_type": "code",
   "execution_count": 27,
   "id": "422d62ae",
   "metadata": {},
   "outputs": [
    {
     "name": "stderr",
     "output_type": "stream",
     "text": [
      "22/05/18 12:28:11 WARN TaskSetManager: Stage 802 contains a task of very large size (31371 KiB). The maximum recommended task size is 1000 KiB.\n",
      "[Stage 814:=>                                                     (1 + 31) / 32]\r"
     ]
    },
    {
     "name": "stdout",
     "output_type": "stream",
     "text": [
      "+---------+--------------------+--------------------+--------------------+\n",
      "|ID Number|Gms:sum/2017//yearly|Gms:sum/2018//yearly|Gms:sum/2019//yearly|\n",
      "+---------+--------------------+--------------------+--------------------+\n",
      "| 54507332|                   0|                  23|                  11|\n",
      "| 12980927|                   0|                   0|                   0|\n",
      "|   928453|                   2|                   5|                   7|\n",
      "|  5502276|                null|                   8|                   6|\n",
      "|  2180740|                   0|                   0|                   0|\n",
      "+---------+--------------------+--------------------+--------------------+\n",
      "only showing top 5 rows\n",
      "\n"
     ]
    },
    {
     "name": "stderr",
     "output_type": "stream",
     "text": [
      "\r",
      "                                                                                \r"
     ]
    }
   ],
   "source": [
    "red = reduce_by_months(df, 'Gms', get_sum, agg_func_name='sum', n_months=12) \\\n",
    "        .groupBy('ID Number') \\\n",
    "        .pivot('Colname') \\\n",
    "        .max('Gms:sum')\n",
    "\n",
    "red.show(5)"
   ]
  },
  {
   "cell_type": "code",
   "execution_count": 14,
   "id": "ae74aec2",
   "metadata": {},
   "outputs": [
    {
     "name": "stderr",
     "output_type": "stream",
     "text": [
      "22/05/18 13:31:43 WARN TaskSetManager: Stage 44 contains a task of very large size (35211 KiB). The maximum recommended task size is 1000 KiB.\n",
      "[Stage 56:=======>                                                (4 + 28) / 32]\r"
     ]
    },
    {
     "name": "stdout",
     "output_type": "stream",
     "text": [
      "+---------+--------------------+--------------------+--------------------+\n",
      "|ID Number|tit:max/2017//yearly|tit:max/2018//yearly|tit:max/2019//yearly|\n",
      "+---------+--------------------+--------------------+--------------------+\n",
      "|  1662180|                   0|                   0|                   0|\n",
      "|  9947876|                   0|                   0|                   0|\n",
      "|  4168836|                   0|                   0|                   0|\n",
      "| 24628255|                   0|                   0|                   0|\n",
      "| 24630047|                   0|                   0|                   0|\n",
      "+---------+--------------------+--------------------+--------------------+\n",
      "only showing top 5 rows\n",
      "\n"
     ]
    },
    {
     "name": "stderr",
     "output_type": "stream",
     "text": [
      "\r",
      "                                                                                \r"
     ]
    }
   ],
   "source": [
    "red = reduce_by_months(df, 'tit', get_max, agg_func_name='max', n_months=12) \\\n",
    "        .groupBy('ID Number') \\\n",
    "        .pivot('Colname').max('tit:max')\n",
    "\n",
    "red.show(5)"
   ]
  },
  {
   "cell_type": "code",
   "execution_count": 40,
   "id": "1a360e71",
   "metadata": {},
   "outputs": [
    {
     "data": {
      "text/plain": [
       "array(['', 'WFM', 'IM', 'GM', 'WIM', 'FM', 'CM', 'WCM', 'WGM', 'WH'],\n",
       "      dtype=object)"
      ]
     },
     "execution_count": 40,
     "metadata": {},
     "output_type": "execute_result"
    }
   ],
   "source": [
    "data['Tit'].unique()"
   ]
  },
  {
   "cell_type": "code",
   "execution_count": 20,
   "id": "d3c9b6eb",
   "metadata": {},
   "outputs": [
    {
     "name": "stdout",
     "output_type": "stream",
     "text": [
      "+---------+------------------+---+---+---+----+----+---+----+---+---+-----+----+----+---+------------+\n",
      "|ID Number|              Name|Fed|Sex|Tit|WTit|OTit|FOA| Rat|Gms|  K|B-day|Flag|Year|Mon|Year / month|\n",
      "+---------+------------------+---+---+---+----+----+---+----+---+---+-----+----+----+---+------------+\n",
      "|137122537|   Tonoyan, Robert|FID|  M|   |    |    |   |1880|  2| 20| 1994|    |2018|  4|   2018 / 04|\n",
      "|551012243|Jourd`hui, Trystan|FRA|  M|   |    |    |   |1184|  0| 40| 2004|    |2018|  5|   2018 / 05|\n",
      "|366196523|  Kulkarni, Rakesh|IND|  M|   |    |    |AIM|1340|  0| 40| 1984|    |2018|  5|   2018 / 05|\n",
      "|551000067|  Pironti, Nicolas|FRA|  M|   |    |    |   |1353|  1| 40| 1958|    |2018|  5|   2018 / 05|\n",
      "|551013886|    Poirson, Simon|FRA|  M|   |    |    |   |1333|  0| 40| 2003|    |2018|  5|   2018 / 05|\n",
      "+---------+------------------+---+---+---+----+----+---+----+---+---+-----+----+----+---+------------+\n",
      "only showing top 5 rows\n",
      "\n"
     ]
    }
   ],
   "source": [
    "df.drop_duplicates().show(5)"
   ]
  },
  {
   "cell_type": "code",
   "execution_count": 36,
   "id": "b7526c17",
   "metadata": {},
   "outputs": [],
   "source": [
    "from spark_utils import get_dataset\n",
    "from model_utils import x_y_split"
   ]
  },
  {
   "cell_type": "code",
   "execution_count": 37,
   "id": "8eb4a600",
   "metadata": {},
   "outputs": [
    {
     "name": "stderr",
     "output_type": "stream",
     "text": [
      "22/05/18 14:35:43 WARN TaskSetManager: Stage 972 contains a task of very large size (35211 KiB). The maximum recommended task size is 1000 KiB.\n",
      "22/05/18 14:35:58 WARN TaskSetManager: Stage 983 contains a task of very large size (35211 KiB). The maximum recommended task size is 1000 KiB.\n",
      "22/05/18 14:36:03 WARN TaskSetManager: Stage 998 contains a task of very large size (35211 KiB). The maximum recommended task size is 1000 KiB.\n"
     ]
    },
    {
     "name": "stdout",
     "output_type": "stream",
     "text": [
      "Counts before join: base_df 345770, reduced 345770\n"
     ]
    },
    {
     "name": "stderr",
     "output_type": "stream",
     "text": [
      "22/05/18 14:36:06 WARN TaskSetManager: Stage 1010 contains a task of very large size (35211 KiB). The maximum recommended task size is 1000 KiB.\n"
     ]
    },
    {
     "name": "stdout",
     "output_type": "stream",
     "text": [
      "Counts after join: base_df 345770\n"
     ]
    },
    {
     "name": "stderr",
     "output_type": "stream",
     "text": [
      "22/05/18 14:36:20 WARN TaskSetManager: Stage 1021 contains a task of very large size (35211 KiB). The maximum recommended task size is 1000 KiB.\n",
      "22/05/18 14:36:27 WARN TaskSetManager: Stage 1042 contains a task of very large size (35211 KiB). The maximum recommended task size is 1000 KiB.\n"
     ]
    },
    {
     "name": "stdout",
     "output_type": "stream",
     "text": [
      "Counts before join: base_df 345770, reduced 345770\n"
     ]
    },
    {
     "name": "stderr",
     "output_type": "stream",
     "text": [
      "22/05/18 14:36:31 WARN TaskSetManager: Stage 1060 contains a task of very large size (35211 KiB). The maximum recommended task size is 1000 KiB.\n"
     ]
    },
    {
     "name": "stdout",
     "output_type": "stream",
     "text": [
      "Counts after join: base_df 345770\n"
     ]
    },
    {
     "name": "stderr",
     "output_type": "stream",
     "text": [
      "22/05/18 14:36:48 WARN TaskSetManager: Stage 1071 contains a task of very large size (35211 KiB). The maximum recommended task size is 1000 KiB.\n",
      "22/05/18 14:36:55 WARN TaskSetManager: Stage 1098 contains a task of very large size (35211 KiB). The maximum recommended task size is 1000 KiB.\n"
     ]
    },
    {
     "name": "stdout",
     "output_type": "stream",
     "text": [
      "Counts before join: base_df 345770, reduced 345770\n"
     ]
    },
    {
     "name": "stderr",
     "output_type": "stream",
     "text": [
      "22/05/18 14:37:01 WARN TaskSetManager: Stage 1122 contains a task of very large size (35211 KiB). The maximum recommended task size is 1000 KiB.\n"
     ]
    },
    {
     "name": "stdout",
     "output_type": "stream",
     "text": [
      "Counts after join: base_df 345770\n"
     ]
    },
    {
     "name": "stderr",
     "output_type": "stream",
     "text": [
      "22/05/18 14:37:16 WARN TaskSetManager: Stage 1133 contains a task of very large size (35211 KiB). The maximum recommended task size is 1000 KiB.\n",
      "22/05/18 14:37:24 WARN TaskSetManager: Stage 1166 contains a task of very large size (35211 KiB). The maximum recommended task size is 1000 KiB.\n"
     ]
    },
    {
     "name": "stdout",
     "output_type": "stream",
     "text": [
      "Counts before join: base_df 345770, reduced 345770\n"
     ]
    },
    {
     "name": "stderr",
     "output_type": "stream",
     "text": [
      "                                                                                \r"
     ]
    },
    {
     "name": "stdout",
     "output_type": "stream",
     "text": [
      "Counts after join: base_df 345770\n"
     ]
    },
    {
     "name": "stderr",
     "output_type": "stream",
     "text": [
      "22/05/18 14:37:32 WARN TaskSetManager: Stage 1196 contains a task of very large size (35211 KiB). The maximum recommended task size is 1000 KiB.\n",
      "22/05/18 14:37:46 WARN TaskSetManager: Stage 1207 contains a task of very large size (35211 KiB). The maximum recommended task size is 1000 KiB.\n",
      "22/05/18 14:37:54 WARN TaskSetManager: Stage 1246 contains a task of very large size (35211 KiB). The maximum recommended task size is 1000 KiB.\n"
     ]
    },
    {
     "name": "stdout",
     "output_type": "stream",
     "text": [
      "Counts before join: base_df 345770, reduced 345770\n"
     ]
    },
    {
     "name": "stderr",
     "output_type": "stream",
     "text": [
      "                                                                                \r"
     ]
    },
    {
     "name": "stdout",
     "output_type": "stream",
     "text": [
      "Counts after join: base_df 345770\n"
     ]
    },
    {
     "name": "stderr",
     "output_type": "stream",
     "text": [
      "22/05/18 14:38:04 WARN TaskSetManager: Stage 1282 contains a task of very large size (35211 KiB). The maximum recommended task size is 1000 KiB.\n",
      "22/05/18 14:38:18 WARN TaskSetManager: Stage 1293 contains a task of very large size (35211 KiB). The maximum recommended task size is 1000 KiB.\n",
      "22/05/18 14:38:28 WARN TaskSetManager: Stage 1338 contains a task of very large size (35211 KiB). The maximum recommended task size is 1000 KiB.\n"
     ]
    },
    {
     "name": "stdout",
     "output_type": "stream",
     "text": [
      "Counts before join: base_df 345770, reduced 345770\n"
     ]
    },
    {
     "name": "stderr",
     "output_type": "stream",
     "text": [
      "[Stage 1364:====>                                                 (3 + 30) / 33]\r"
     ]
    },
    {
     "name": "stdout",
     "output_type": "stream",
     "text": [
      "Counts after join: base_df 345770\n"
     ]
    },
    {
     "name": "stderr",
     "output_type": "stream",
     "text": [
      "\r",
      "                                                                                \r"
     ]
    }
   ],
   "source": [
    "spark.conf.set(\"spark.sql.execution.arrow.pyspark.enabled\", \"true\")\n",
    "\n",
    "# feature_cols = [('Gms', 'sum'), ('Tit', 'str')]\n",
    "\n",
    "feature_cols = [('Flag', 'str'), ('Gms', 'sum'), ('Gms', 'mean'), ('Rat', 'mean'), ('tit', 'max'), ('wtit', 'max')]\n",
    "\n",
    "pdf = get_dataset(df, feature_cols)"
   ]
  },
  {
   "cell_type": "code",
   "execution_count": 38,
   "id": "12eb37d2",
   "metadata": {},
   "outputs": [
    {
     "name": "stderr",
     "output_type": "stream",
     "text": [
      "22/05/18 14:38:38 WARN TaskSetManager: Stage 1380 contains a task of very large size (35211 KiB). The maximum recommended task size is 1000 KiB.\n",
      "22/05/18 14:38:49 WARN TaskSetManager: Stage 1427 contains a task of very large size (35211 KiB). The maximum recommended task size is 1000 KiB.\n"
     ]
    },
    {
     "name": "stdout",
     "output_type": "stream",
     "text": [
      "+---------+---+---+---+----+---------------------+---------------------+---------------------+--------------------+--------------------+--------------------+---------------------+---------------------+---------------------+---------------------+---------------------+---------------------+--------------------+--------------------+--------------------+---------------------+---------------------+---------------------+\n",
      "|ID Number|Sex|  K|age|Flag|Flag:str/2017//yearly|Flag:str/2018//yearly|Flag:str/2019//yearly|Gms:sum/2017//yearly|Gms:sum/2018//yearly|Gms:sum/2019//yearly|Gms:mean/2017//yearly|Gms:mean/2018//yearly|Gms:mean/2019//yearly|Rat:mean/2017//yearly|Rat:mean/2018//yearly|Rat:mean/2019//yearly|tit:max/2017//yearly|tit:max/2018//yearly|tit:max/2019//yearly|wtit:max/2017//yearly|wtit:max/2018//yearly|wtit:max/2019//yearly|\n",
      "+---------+---+---+---+----+---------------------+---------------------+---------------------+--------------------+--------------------+--------------------+---------------------+---------------------+---------------------+---------------------+---------------------+---------------------+--------------------+--------------------+--------------------+---------------------+---------------------+---------------------+\n",
      "|   100170|  M| 20| 28|   i|                    i|                    i|                    i|                   0|                   0|                   0|                  0.0|                  0.0|                  0.0|               1930.0|               1930.0|               1930.0|                   0|                   0|                   0|                    0|                    0|                    0|\n",
      "|   100323|  M| 10| 59|   i|                    i|                    i|                    i|                   0|                   0|                   0|                  0.0|                  0.0|                  0.0|               2389.0|               2389.0|               2389.0|                   3|                   3|                   3|                    0|                    0|                    0|\n",
      "|   100552|  M| 10| 59|    |                     |                     |                     |                   7|                  16|                  36|                  7.0|   1.3333333333333333|                  3.0|               2403.0|   2397.6666666666665|   2376.6666666666665|                   2|                   2|                   2|                    0|                    0|                    0|\n",
      "|   101435|  M| 20| 96|   i|                    i|                    i|                    i|                   0|                   0|                   0|                  0.0|                  0.0|                  0.0|               2310.0|               2310.0|               2310.0|                   3|                   3|                   3|                    0|                    0|                    0|\n",
      "|   101583|  M| 40| 49|   i|                    i|                    i|                    i|                   0|                   0|                   0|                  0.0|                  0.0|                  0.0|               2237.0|               2237.0|               2237.0|                   0|                   0|                   0|                    0|                    0|                    0|\n",
      "+---------+---+---+---+----+---------------------+---------------------+---------------------+--------------------+--------------------+--------------------+---------------------+---------------------+---------------------+---------------------+---------------------+---------------------+--------------------+--------------------+--------------------+---------------------+---------------------+---------------------+\n",
      "only showing top 5 rows\n",
      "\n"
     ]
    },
    {
     "name": "stderr",
     "output_type": "stream",
     "text": [
      "                                                                                \r"
     ]
    }
   ],
   "source": [
    "pdf.show(5)\n",
    "pdf = pdf.toPandas()"
   ]
  },
  {
   "cell_type": "code",
   "execution_count": 44,
   "id": "9de0ee24",
   "metadata": {},
   "outputs": [
    {
     "data": {
      "text/html": [
       "<div>\n",
       "<style scoped>\n",
       "    .dataframe tbody tr th:only-of-type {\n",
       "        vertical-align: middle;\n",
       "    }\n",
       "\n",
       "    .dataframe tbody tr th {\n",
       "        vertical-align: top;\n",
       "    }\n",
       "\n",
       "    .dataframe thead th {\n",
       "        text-align: right;\n",
       "    }\n",
       "</style>\n",
       "<table border=\"1\" class=\"dataframe\">\n",
       "  <thead>\n",
       "    <tr style=\"text-align: right;\">\n",
       "      <th></th>\n",
       "      <th>ID Number</th>\n",
       "      <th>Sex</th>\n",
       "      <th>K</th>\n",
       "      <th>age</th>\n",
       "      <th>Flag:str/2017//yearly</th>\n",
       "      <th>Flag:str/2018//yearly</th>\n",
       "      <th>Flag:str/2019//yearly</th>\n",
       "      <th>Gms:sum/2017//yearly</th>\n",
       "      <th>Gms:sum/2018//yearly</th>\n",
       "      <th>Gms:sum/2019//yearly</th>\n",
       "      <th>...</th>\n",
       "      <th>Gms:mean/2019//yearly</th>\n",
       "      <th>Rat:mean/2017//yearly</th>\n",
       "      <th>Rat:mean/2018//yearly</th>\n",
       "      <th>Rat:mean/2019//yearly</th>\n",
       "      <th>tit:max/2017//yearly</th>\n",
       "      <th>tit:max/2018//yearly</th>\n",
       "      <th>tit:max/2019//yearly</th>\n",
       "      <th>wtit:max/2017//yearly</th>\n",
       "      <th>wtit:max/2018//yearly</th>\n",
       "      <th>wtit:max/2019//yearly</th>\n",
       "    </tr>\n",
       "  </thead>\n",
       "  <tbody>\n",
       "    <tr>\n",
       "      <th>0</th>\n",
       "      <td>100170</td>\n",
       "      <td>M</td>\n",
       "      <td>20</td>\n",
       "      <td>28</td>\n",
       "      <td>i</td>\n",
       "      <td>i</td>\n",
       "      <td>i</td>\n",
       "      <td>0.0</td>\n",
       "      <td>0.0</td>\n",
       "      <td>0.0</td>\n",
       "      <td>...</td>\n",
       "      <td>0.000000</td>\n",
       "      <td>1930.0</td>\n",
       "      <td>1930.000000</td>\n",
       "      <td>1930.000000</td>\n",
       "      <td>0.0</td>\n",
       "      <td>0.0</td>\n",
       "      <td>0.0</td>\n",
       "      <td>0.0</td>\n",
       "      <td>0.0</td>\n",
       "      <td>0.0</td>\n",
       "    </tr>\n",
       "    <tr>\n",
       "      <th>1</th>\n",
       "      <td>100323</td>\n",
       "      <td>M</td>\n",
       "      <td>10</td>\n",
       "      <td>59</td>\n",
       "      <td>i</td>\n",
       "      <td>i</td>\n",
       "      <td>i</td>\n",
       "      <td>0.0</td>\n",
       "      <td>0.0</td>\n",
       "      <td>0.0</td>\n",
       "      <td>...</td>\n",
       "      <td>0.000000</td>\n",
       "      <td>2389.0</td>\n",
       "      <td>2389.000000</td>\n",
       "      <td>2389.000000</td>\n",
       "      <td>3.0</td>\n",
       "      <td>3.0</td>\n",
       "      <td>3.0</td>\n",
       "      <td>0.0</td>\n",
       "      <td>0.0</td>\n",
       "      <td>0.0</td>\n",
       "    </tr>\n",
       "    <tr>\n",
       "      <th>2</th>\n",
       "      <td>100552</td>\n",
       "      <td>M</td>\n",
       "      <td>10</td>\n",
       "      <td>59</td>\n",
       "      <td></td>\n",
       "      <td></td>\n",
       "      <td></td>\n",
       "      <td>7.0</td>\n",
       "      <td>16.0</td>\n",
       "      <td>36.0</td>\n",
       "      <td>...</td>\n",
       "      <td>3.000000</td>\n",
       "      <td>2403.0</td>\n",
       "      <td>2397.666667</td>\n",
       "      <td>2376.666667</td>\n",
       "      <td>2.0</td>\n",
       "      <td>2.0</td>\n",
       "      <td>2.0</td>\n",
       "      <td>0.0</td>\n",
       "      <td>0.0</td>\n",
       "      <td>0.0</td>\n",
       "    </tr>\n",
       "    <tr>\n",
       "      <th>3</th>\n",
       "      <td>101435</td>\n",
       "      <td>M</td>\n",
       "      <td>20</td>\n",
       "      <td>96</td>\n",
       "      <td>i</td>\n",
       "      <td>i</td>\n",
       "      <td>i</td>\n",
       "      <td>0.0</td>\n",
       "      <td>0.0</td>\n",
       "      <td>0.0</td>\n",
       "      <td>...</td>\n",
       "      <td>0.000000</td>\n",
       "      <td>2310.0</td>\n",
       "      <td>2310.000000</td>\n",
       "      <td>2310.000000</td>\n",
       "      <td>3.0</td>\n",
       "      <td>3.0</td>\n",
       "      <td>3.0</td>\n",
       "      <td>0.0</td>\n",
       "      <td>0.0</td>\n",
       "      <td>0.0</td>\n",
       "    </tr>\n",
       "    <tr>\n",
       "      <th>4</th>\n",
       "      <td>101583</td>\n",
       "      <td>M</td>\n",
       "      <td>40</td>\n",
       "      <td>49</td>\n",
       "      <td>i</td>\n",
       "      <td>i</td>\n",
       "      <td>i</td>\n",
       "      <td>0.0</td>\n",
       "      <td>0.0</td>\n",
       "      <td>0.0</td>\n",
       "      <td>...</td>\n",
       "      <td>0.000000</td>\n",
       "      <td>2237.0</td>\n",
       "      <td>2237.000000</td>\n",
       "      <td>2237.000000</td>\n",
       "      <td>0.0</td>\n",
       "      <td>0.0</td>\n",
       "      <td>0.0</td>\n",
       "      <td>0.0</td>\n",
       "      <td>0.0</td>\n",
       "      <td>0.0</td>\n",
       "    </tr>\n",
       "    <tr>\n",
       "      <th>...</th>\n",
       "      <td>...</td>\n",
       "      <td>...</td>\n",
       "      <td>...</td>\n",
       "      <td>...</td>\n",
       "      <td>...</td>\n",
       "      <td>...</td>\n",
       "      <td>...</td>\n",
       "      <td>...</td>\n",
       "      <td>...</td>\n",
       "      <td>...</td>\n",
       "      <td>...</td>\n",
       "      <td>...</td>\n",
       "      <td>...</td>\n",
       "      <td>...</td>\n",
       "      <td>...</td>\n",
       "      <td>...</td>\n",
       "      <td>...</td>\n",
       "      <td>...</td>\n",
       "      <td>...</td>\n",
       "      <td>...</td>\n",
       "      <td>...</td>\n",
       "    </tr>\n",
       "    <tr>\n",
       "      <th>345765</th>\n",
       "      <td>551037335</td>\n",
       "      <td>M</td>\n",
       "      <td>40</td>\n",
       "      <td>10</td>\n",
       "      <td>i</td>\n",
       "      <td>i</td>\n",
       "      <td></td>\n",
       "      <td>0.0</td>\n",
       "      <td>0.0</td>\n",
       "      <td>10.0</td>\n",
       "      <td>...</td>\n",
       "      <td>1.000000</td>\n",
       "      <td>0.0</td>\n",
       "      <td>0.000000</td>\n",
       "      <td>1021.400000</td>\n",
       "      <td>0.0</td>\n",
       "      <td>0.0</td>\n",
       "      <td>0.0</td>\n",
       "      <td>0.0</td>\n",
       "      <td>0.0</td>\n",
       "      <td>0.0</td>\n",
       "    </tr>\n",
       "    <tr>\n",
       "      <th>345766</th>\n",
       "      <td>551040239</td>\n",
       "      <td>M</td>\n",
       "      <td>40</td>\n",
       "      <td>13</td>\n",
       "      <td>i</td>\n",
       "      <td>i</td>\n",
       "      <td></td>\n",
       "      <td>0.0</td>\n",
       "      <td>0.0</td>\n",
       "      <td>21.0</td>\n",
       "      <td>...</td>\n",
       "      <td>3.500000</td>\n",
       "      <td>0.0</td>\n",
       "      <td>0.000000</td>\n",
       "      <td>1481.500000</td>\n",
       "      <td>0.0</td>\n",
       "      <td>0.0</td>\n",
       "      <td>0.0</td>\n",
       "      <td>0.0</td>\n",
       "      <td>0.0</td>\n",
       "      <td>0.0</td>\n",
       "    </tr>\n",
       "    <tr>\n",
       "      <th>345767</th>\n",
       "      <td>551040247</td>\n",
       "      <td>M</td>\n",
       "      <td>40</td>\n",
       "      <td>13</td>\n",
       "      <td>i</td>\n",
       "      <td>i</td>\n",
       "      <td></td>\n",
       "      <td>0.0</td>\n",
       "      <td>0.0</td>\n",
       "      <td>14.0</td>\n",
       "      <td>...</td>\n",
       "      <td>1.750000</td>\n",
       "      <td>0.0</td>\n",
       "      <td>0.000000</td>\n",
       "      <td>1043.875000</td>\n",
       "      <td>0.0</td>\n",
       "      <td>0.0</td>\n",
       "      <td>0.0</td>\n",
       "      <td>0.0</td>\n",
       "      <td>0.0</td>\n",
       "      <td>0.0</td>\n",
       "    </tr>\n",
       "    <tr>\n",
       "      <th>345768</th>\n",
       "      <td>551055252</td>\n",
       "      <td>M</td>\n",
       "      <td>40</td>\n",
       "      <td>11</td>\n",
       "      <td>i</td>\n",
       "      <td>i</td>\n",
       "      <td></td>\n",
       "      <td>0.0</td>\n",
       "      <td>0.0</td>\n",
       "      <td>16.0</td>\n",
       "      <td>...</td>\n",
       "      <td>1.777778</td>\n",
       "      <td>0.0</td>\n",
       "      <td>0.000000</td>\n",
       "      <td>1061.888889</td>\n",
       "      <td>0.0</td>\n",
       "      <td>0.0</td>\n",
       "      <td>0.0</td>\n",
       "      <td>0.0</td>\n",
       "      <td>0.0</td>\n",
       "      <td>0.0</td>\n",
       "    </tr>\n",
       "    <tr>\n",
       "      <th>345769</th>\n",
       "      <td>551061198</td>\n",
       "      <td>M</td>\n",
       "      <td>40</td>\n",
       "      <td>60</td>\n",
       "      <td>i</td>\n",
       "      <td>i</td>\n",
       "      <td></td>\n",
       "      <td>0.0</td>\n",
       "      <td>0.0</td>\n",
       "      <td>10.0</td>\n",
       "      <td>...</td>\n",
       "      <td>1.111111</td>\n",
       "      <td>0.0</td>\n",
       "      <td>0.000000</td>\n",
       "      <td>1566.444444</td>\n",
       "      <td>0.0</td>\n",
       "      <td>0.0</td>\n",
       "      <td>0.0</td>\n",
       "      <td>0.0</td>\n",
       "      <td>0.0</td>\n",
       "      <td>0.0</td>\n",
       "    </tr>\n",
       "  </tbody>\n",
       "</table>\n",
       "<p>345770 rows × 22 columns</p>\n",
       "</div>"
      ],
      "text/plain": [
       "        ID Number Sex   K  age Flag:str/2017//yearly Flag:str/2018//yearly  \\\n",
       "0          100170   M  20   28                     i                     i   \n",
       "1          100323   M  10   59                     i                     i   \n",
       "2          100552   M  10   59                                               \n",
       "3          101435   M  20   96                     i                     i   \n",
       "4          101583   M  40   49                     i                     i   \n",
       "...           ...  ..  ..  ...                   ...                   ...   \n",
       "345765  551037335   M  40   10                     i                     i   \n",
       "345766  551040239   M  40   13                     i                     i   \n",
       "345767  551040247   M  40   13                     i                     i   \n",
       "345768  551055252   M  40   11                     i                     i   \n",
       "345769  551061198   M  40   60                     i                     i   \n",
       "\n",
       "       Flag:str/2019//yearly  Gms:sum/2017//yearly  Gms:sum/2018//yearly  \\\n",
       "0                          i                   0.0                   0.0   \n",
       "1                          i                   0.0                   0.0   \n",
       "2                                              7.0                  16.0   \n",
       "3                          i                   0.0                   0.0   \n",
       "4                          i                   0.0                   0.0   \n",
       "...                      ...                   ...                   ...   \n",
       "345765                                         0.0                   0.0   \n",
       "345766                                         0.0                   0.0   \n",
       "345767                                         0.0                   0.0   \n",
       "345768                                         0.0                   0.0   \n",
       "345769                                         0.0                   0.0   \n",
       "\n",
       "        Gms:sum/2019//yearly  ...  Gms:mean/2019//yearly  \\\n",
       "0                        0.0  ...               0.000000   \n",
       "1                        0.0  ...               0.000000   \n",
       "2                       36.0  ...               3.000000   \n",
       "3                        0.0  ...               0.000000   \n",
       "4                        0.0  ...               0.000000   \n",
       "...                      ...  ...                    ...   \n",
       "345765                  10.0  ...               1.000000   \n",
       "345766                  21.0  ...               3.500000   \n",
       "345767                  14.0  ...               1.750000   \n",
       "345768                  16.0  ...               1.777778   \n",
       "345769                  10.0  ...               1.111111   \n",
       "\n",
       "        Rat:mean/2017//yearly  Rat:mean/2018//yearly  Rat:mean/2019//yearly  \\\n",
       "0                      1930.0            1930.000000            1930.000000   \n",
       "1                      2389.0            2389.000000            2389.000000   \n",
       "2                      2403.0            2397.666667            2376.666667   \n",
       "3                      2310.0            2310.000000            2310.000000   \n",
       "4                      2237.0            2237.000000            2237.000000   \n",
       "...                       ...                    ...                    ...   \n",
       "345765                    0.0               0.000000            1021.400000   \n",
       "345766                    0.0               0.000000            1481.500000   \n",
       "345767                    0.0               0.000000            1043.875000   \n",
       "345768                    0.0               0.000000            1061.888889   \n",
       "345769                    0.0               0.000000            1566.444444   \n",
       "\n",
       "        tit:max/2017//yearly  tit:max/2018//yearly  tit:max/2019//yearly  \\\n",
       "0                        0.0                   0.0                   0.0   \n",
       "1                        3.0                   3.0                   3.0   \n",
       "2                        2.0                   2.0                   2.0   \n",
       "3                        3.0                   3.0                   3.0   \n",
       "4                        0.0                   0.0                   0.0   \n",
       "...                      ...                   ...                   ...   \n",
       "345765                   0.0                   0.0                   0.0   \n",
       "345766                   0.0                   0.0                   0.0   \n",
       "345767                   0.0                   0.0                   0.0   \n",
       "345768                   0.0                   0.0                   0.0   \n",
       "345769                   0.0                   0.0                   0.0   \n",
       "\n",
       "        wtit:max/2017//yearly  wtit:max/2018//yearly  wtit:max/2019//yearly  \n",
       "0                         0.0                    0.0                    0.0  \n",
       "1                         0.0                    0.0                    0.0  \n",
       "2                         0.0                    0.0                    0.0  \n",
       "3                         0.0                    0.0                    0.0  \n",
       "4                         0.0                    0.0                    0.0  \n",
       "...                       ...                    ...                    ...  \n",
       "345765                    0.0                    0.0                    0.0  \n",
       "345766                    0.0                    0.0                    0.0  \n",
       "345767                    0.0                    0.0                    0.0  \n",
       "345768                    0.0                    0.0                    0.0  \n",
       "345769                    0.0                    0.0                    0.0  \n",
       "\n",
       "[345770 rows x 22 columns]"
      ]
     },
     "execution_count": 44,
     "metadata": {},
     "output_type": "execute_result"
    }
   ],
   "source": [
    "pdf"
   ]
  },
  {
   "cell_type": "code",
   "execution_count": 40,
   "id": "081629b3",
   "metadata": {},
   "outputs": [],
   "source": [
    "for c in pdf.columns:\n",
    "    if 'Flag' in c:\n",
    "        pdf[c] = pdf[c].fillna('i')\n",
    "    else:\n",
    "        pdf[c] = pdf[c].fillna(0)"
   ]
  },
  {
   "cell_type": "code",
   "execution_count": 68,
   "id": "13681e26",
   "metadata": {},
   "outputs": [],
   "source": [
    "from model_utils import x_y_split\n",
    "\n",
    "xorig, yorig = x_y_split(pdf, last_year='2019')"
   ]
  },
  {
   "cell_type": "code",
   "execution_count": 69,
   "id": "8fc96e39",
   "metadata": {},
   "outputs": [],
   "source": [
    "from model_utils import cut_age_groups\n",
    "\n",
    "cut_age_groups(xorig, bins='groups')"
   ]
  },
  {
   "cell_type": "code",
   "execution_count": 70,
   "id": "42f8de4c",
   "metadata": {},
   "outputs": [
    {
     "data": {
      "text/html": [
       "<div>\n",
       "<style scoped>\n",
       "    .dataframe tbody tr th:only-of-type {\n",
       "        vertical-align: middle;\n",
       "    }\n",
       "\n",
       "    .dataframe tbody tr th {\n",
       "        vertical-align: top;\n",
       "    }\n",
       "\n",
       "    .dataframe thead th {\n",
       "        text-align: right;\n",
       "    }\n",
       "</style>\n",
       "<table border=\"1\" class=\"dataframe\">\n",
       "  <thead>\n",
       "    <tr style=\"text-align: right;\">\n",
       "      <th></th>\n",
       "      <th>ID Number</th>\n",
       "      <th>Sex</th>\n",
       "      <th>K</th>\n",
       "      <th>age</th>\n",
       "      <th>Flag:str/2017//yearly</th>\n",
       "      <th>Flag:str/2018//yearly</th>\n",
       "      <th>Gms:sum/2017//yearly</th>\n",
       "      <th>Gms:sum/2018//yearly</th>\n",
       "      <th>Gms:mean/2017//yearly</th>\n",
       "      <th>Gms:mean/2018//yearly</th>\n",
       "      <th>Rat:mean/2017//yearly</th>\n",
       "      <th>Rat:mean/2018//yearly</th>\n",
       "      <th>tit:max/2017//yearly</th>\n",
       "      <th>tit:max/2018//yearly</th>\n",
       "      <th>wtit:max/2017//yearly</th>\n",
       "      <th>wtit:max/2018//yearly</th>\n",
       "    </tr>\n",
       "  </thead>\n",
       "  <tbody>\n",
       "    <tr>\n",
       "      <th>0</th>\n",
       "      <td>100170</td>\n",
       "      <td>M</td>\n",
       "      <td>20</td>\n",
       "      <td>(25, 35]</td>\n",
       "      <td>i</td>\n",
       "      <td>i</td>\n",
       "      <td>0.0</td>\n",
       "      <td>0.0</td>\n",
       "      <td>0.0</td>\n",
       "      <td>0.000000</td>\n",
       "      <td>1930.0</td>\n",
       "      <td>1930.000000</td>\n",
       "      <td>0.0</td>\n",
       "      <td>0.0</td>\n",
       "      <td>0.0</td>\n",
       "      <td>0.0</td>\n",
       "    </tr>\n",
       "    <tr>\n",
       "      <th>1</th>\n",
       "      <td>100323</td>\n",
       "      <td>M</td>\n",
       "      <td>10</td>\n",
       "      <td>(50, 65]</td>\n",
       "      <td>i</td>\n",
       "      <td>i</td>\n",
       "      <td>0.0</td>\n",
       "      <td>0.0</td>\n",
       "      <td>0.0</td>\n",
       "      <td>0.000000</td>\n",
       "      <td>2389.0</td>\n",
       "      <td>2389.000000</td>\n",
       "      <td>3.0</td>\n",
       "      <td>3.0</td>\n",
       "      <td>0.0</td>\n",
       "      <td>0.0</td>\n",
       "    </tr>\n",
       "    <tr>\n",
       "      <th>2</th>\n",
       "      <td>100552</td>\n",
       "      <td>M</td>\n",
       "      <td>10</td>\n",
       "      <td>(50, 65]</td>\n",
       "      <td></td>\n",
       "      <td></td>\n",
       "      <td>7.0</td>\n",
       "      <td>16.0</td>\n",
       "      <td>7.0</td>\n",
       "      <td>1.333333</td>\n",
       "      <td>2403.0</td>\n",
       "      <td>2397.666667</td>\n",
       "      <td>2.0</td>\n",
       "      <td>2.0</td>\n",
       "      <td>0.0</td>\n",
       "      <td>0.0</td>\n",
       "    </tr>\n",
       "    <tr>\n",
       "      <th>3</th>\n",
       "      <td>101435</td>\n",
       "      <td>M</td>\n",
       "      <td>20</td>\n",
       "      <td>(75, 110]</td>\n",
       "      <td>i</td>\n",
       "      <td>i</td>\n",
       "      <td>0.0</td>\n",
       "      <td>0.0</td>\n",
       "      <td>0.0</td>\n",
       "      <td>0.000000</td>\n",
       "      <td>2310.0</td>\n",
       "      <td>2310.000000</td>\n",
       "      <td>3.0</td>\n",
       "      <td>3.0</td>\n",
       "      <td>0.0</td>\n",
       "      <td>0.0</td>\n",
       "    </tr>\n",
       "    <tr>\n",
       "      <th>4</th>\n",
       "      <td>101583</td>\n",
       "      <td>M</td>\n",
       "      <td>40</td>\n",
       "      <td>(35, 50]</td>\n",
       "      <td>i</td>\n",
       "      <td>i</td>\n",
       "      <td>0.0</td>\n",
       "      <td>0.0</td>\n",
       "      <td>0.0</td>\n",
       "      <td>0.000000</td>\n",
       "      <td>2237.0</td>\n",
       "      <td>2237.000000</td>\n",
       "      <td>0.0</td>\n",
       "      <td>0.0</td>\n",
       "      <td>0.0</td>\n",
       "      <td>0.0</td>\n",
       "    </tr>\n",
       "    <tr>\n",
       "      <th>...</th>\n",
       "      <td>...</td>\n",
       "      <td>...</td>\n",
       "      <td>...</td>\n",
       "      <td>...</td>\n",
       "      <td>...</td>\n",
       "      <td>...</td>\n",
       "      <td>...</td>\n",
       "      <td>...</td>\n",
       "      <td>...</td>\n",
       "      <td>...</td>\n",
       "      <td>...</td>\n",
       "      <td>...</td>\n",
       "      <td>...</td>\n",
       "      <td>...</td>\n",
       "      <td>...</td>\n",
       "      <td>...</td>\n",
       "    </tr>\n",
       "    <tr>\n",
       "      <th>345765</th>\n",
       "      <td>551037335</td>\n",
       "      <td>M</td>\n",
       "      <td>40</td>\n",
       "      <td>(5, 18]</td>\n",
       "      <td>i</td>\n",
       "      <td>i</td>\n",
       "      <td>0.0</td>\n",
       "      <td>0.0</td>\n",
       "      <td>0.0</td>\n",
       "      <td>0.000000</td>\n",
       "      <td>0.0</td>\n",
       "      <td>0.000000</td>\n",
       "      <td>0.0</td>\n",
       "      <td>0.0</td>\n",
       "      <td>0.0</td>\n",
       "      <td>0.0</td>\n",
       "    </tr>\n",
       "    <tr>\n",
       "      <th>345766</th>\n",
       "      <td>551040239</td>\n",
       "      <td>M</td>\n",
       "      <td>40</td>\n",
       "      <td>(5, 18]</td>\n",
       "      <td>i</td>\n",
       "      <td>i</td>\n",
       "      <td>0.0</td>\n",
       "      <td>0.0</td>\n",
       "      <td>0.0</td>\n",
       "      <td>0.000000</td>\n",
       "      <td>0.0</td>\n",
       "      <td>0.000000</td>\n",
       "      <td>0.0</td>\n",
       "      <td>0.0</td>\n",
       "      <td>0.0</td>\n",
       "      <td>0.0</td>\n",
       "    </tr>\n",
       "    <tr>\n",
       "      <th>345767</th>\n",
       "      <td>551040247</td>\n",
       "      <td>M</td>\n",
       "      <td>40</td>\n",
       "      <td>(5, 18]</td>\n",
       "      <td>i</td>\n",
       "      <td>i</td>\n",
       "      <td>0.0</td>\n",
       "      <td>0.0</td>\n",
       "      <td>0.0</td>\n",
       "      <td>0.000000</td>\n",
       "      <td>0.0</td>\n",
       "      <td>0.000000</td>\n",
       "      <td>0.0</td>\n",
       "      <td>0.0</td>\n",
       "      <td>0.0</td>\n",
       "      <td>0.0</td>\n",
       "    </tr>\n",
       "    <tr>\n",
       "      <th>345768</th>\n",
       "      <td>551055252</td>\n",
       "      <td>M</td>\n",
       "      <td>40</td>\n",
       "      <td>(5, 18]</td>\n",
       "      <td>i</td>\n",
       "      <td>i</td>\n",
       "      <td>0.0</td>\n",
       "      <td>0.0</td>\n",
       "      <td>0.0</td>\n",
       "      <td>0.000000</td>\n",
       "      <td>0.0</td>\n",
       "      <td>0.000000</td>\n",
       "      <td>0.0</td>\n",
       "      <td>0.0</td>\n",
       "      <td>0.0</td>\n",
       "      <td>0.0</td>\n",
       "    </tr>\n",
       "    <tr>\n",
       "      <th>345769</th>\n",
       "      <td>551061198</td>\n",
       "      <td>M</td>\n",
       "      <td>40</td>\n",
       "      <td>(50, 65]</td>\n",
       "      <td>i</td>\n",
       "      <td>i</td>\n",
       "      <td>0.0</td>\n",
       "      <td>0.0</td>\n",
       "      <td>0.0</td>\n",
       "      <td>0.000000</td>\n",
       "      <td>0.0</td>\n",
       "      <td>0.000000</td>\n",
       "      <td>0.0</td>\n",
       "      <td>0.0</td>\n",
       "      <td>0.0</td>\n",
       "      <td>0.0</td>\n",
       "    </tr>\n",
       "  </tbody>\n",
       "</table>\n",
       "<p>345770 rows × 16 columns</p>\n",
       "</div>"
      ],
      "text/plain": [
       "        ID Number Sex   K        age Flag:str/2017//yearly  \\\n",
       "0          100170   M  20   (25, 35]                     i   \n",
       "1          100323   M  10   (50, 65]                     i   \n",
       "2          100552   M  10   (50, 65]                         \n",
       "3          101435   M  20  (75, 110]                     i   \n",
       "4          101583   M  40   (35, 50]                     i   \n",
       "...           ...  ..  ..        ...                   ...   \n",
       "345765  551037335   M  40    (5, 18]                     i   \n",
       "345766  551040239   M  40    (5, 18]                     i   \n",
       "345767  551040247   M  40    (5, 18]                     i   \n",
       "345768  551055252   M  40    (5, 18]                     i   \n",
       "345769  551061198   M  40   (50, 65]                     i   \n",
       "\n",
       "       Flag:str/2018//yearly  Gms:sum/2017//yearly  Gms:sum/2018//yearly  \\\n",
       "0                          i                   0.0                   0.0   \n",
       "1                          i                   0.0                   0.0   \n",
       "2                                              7.0                  16.0   \n",
       "3                          i                   0.0                   0.0   \n",
       "4                          i                   0.0                   0.0   \n",
       "...                      ...                   ...                   ...   \n",
       "345765                     i                   0.0                   0.0   \n",
       "345766                     i                   0.0                   0.0   \n",
       "345767                     i                   0.0                   0.0   \n",
       "345768                     i                   0.0                   0.0   \n",
       "345769                     i                   0.0                   0.0   \n",
       "\n",
       "        Gms:mean/2017//yearly  Gms:mean/2018//yearly  Rat:mean/2017//yearly  \\\n",
       "0                         0.0               0.000000                 1930.0   \n",
       "1                         0.0               0.000000                 2389.0   \n",
       "2                         7.0               1.333333                 2403.0   \n",
       "3                         0.0               0.000000                 2310.0   \n",
       "4                         0.0               0.000000                 2237.0   \n",
       "...                       ...                    ...                    ...   \n",
       "345765                    0.0               0.000000                    0.0   \n",
       "345766                    0.0               0.000000                    0.0   \n",
       "345767                    0.0               0.000000                    0.0   \n",
       "345768                    0.0               0.000000                    0.0   \n",
       "345769                    0.0               0.000000                    0.0   \n",
       "\n",
       "        Rat:mean/2018//yearly  tit:max/2017//yearly  tit:max/2018//yearly  \\\n",
       "0                 1930.000000                   0.0                   0.0   \n",
       "1                 2389.000000                   3.0                   3.0   \n",
       "2                 2397.666667                   2.0                   2.0   \n",
       "3                 2310.000000                   3.0                   3.0   \n",
       "4                 2237.000000                   0.0                   0.0   \n",
       "...                       ...                   ...                   ...   \n",
       "345765               0.000000                   0.0                   0.0   \n",
       "345766               0.000000                   0.0                   0.0   \n",
       "345767               0.000000                   0.0                   0.0   \n",
       "345768               0.000000                   0.0                   0.0   \n",
       "345769               0.000000                   0.0                   0.0   \n",
       "\n",
       "        wtit:max/2017//yearly  wtit:max/2018//yearly  \n",
       "0                         0.0                    0.0  \n",
       "1                         0.0                    0.0  \n",
       "2                         0.0                    0.0  \n",
       "3                         0.0                    0.0  \n",
       "4                         0.0                    0.0  \n",
       "...                       ...                    ...  \n",
       "345765                    0.0                    0.0  \n",
       "345766                    0.0                    0.0  \n",
       "345767                    0.0                    0.0  \n",
       "345768                    0.0                    0.0  \n",
       "345769                    0.0                    0.0  \n",
       "\n",
       "[345770 rows x 16 columns]"
      ]
     },
     "execution_count": 70,
     "metadata": {},
     "output_type": "execute_result"
    }
   ],
   "source": [
    "xorig"
   ]
  },
  {
   "cell_type": "code",
   "execution_count": 71,
   "id": "247eb10d",
   "metadata": {},
   "outputs": [],
   "source": [
    "import sklearn\n",
    "from sklearn.compose import ColumnTransformer\n",
    "\n",
    "\n",
    "xdata = xorig.drop(columns=['ID Number'])\n",
    "onehot_columns = ['age', 'Sex', 'K'] + [c for c in xdata.columns if 'Flag' in c]\n",
    "\n",
    "ct = sklearn.compose.ColumnTransformer([\n",
    "    ('onehot', sklearn.preprocessing.OneHotEncoder(drop='if_binary'), onehot_columns)], remainder='passthrough')\n",
    "\n",
    "xdata = ct.fit_transform(xdata)"
   ]
  },
  {
   "cell_type": "code",
   "execution_count": 72,
   "id": "059861fa",
   "metadata": {},
   "outputs": [
    {
     "data": {
      "text/plain": [
       "2840.0833333333335"
      ]
     },
     "execution_count": 72,
     "metadata": {},
     "output_type": "execute_result"
    }
   ],
   "source": [
    "xdata.max()"
   ]
  },
  {
   "cell_type": "code",
   "execution_count": 80,
   "id": "fd6b57e8",
   "metadata": {},
   "outputs": [
    {
     "data": {
      "text/plain": [
       "0         0\n",
       "1         0\n",
       "2         0\n",
       "3         0\n",
       "4         0\n",
       "         ..\n",
       "345765    1\n",
       "345766    1\n",
       "345767    1\n",
       "345768    1\n",
       "345769    1\n",
       "Length: 345770, dtype: int64"
      ]
     },
     "execution_count": 80,
     "metadata": {},
     "output_type": "execute_result"
    }
   ],
   "source": [
    "#ydata = yorig['Rat:mean/2019//yearly']\n",
    "ydata = yorig['Rat:mean/2019//yearly'] > (xorig['Rat:mean/2018//yearly'] + 10)\n",
    "ydata = ydata.astype(int)\n",
    "ydata"
   ]
  },
  {
   "cell_type": "code",
   "execution_count": 81,
   "id": "005c90eb",
   "metadata": {},
   "outputs": [
    {
     "data": {
      "text/plain": [
       "81158"
      ]
     },
     "execution_count": 81,
     "metadata": {},
     "output_type": "execute_result"
    }
   ],
   "source": [
    "ydata.sum()"
   ]
  },
  {
   "cell_type": "code",
   "execution_count": 82,
   "id": "efea3b13",
   "metadata": {},
   "outputs": [],
   "source": [
    "from sklearn.model_selection import train_test_split\n",
    "\n",
    "xtrain, xtest, ytrain, ytest, idxtrain, idxtest = train_test_split(xdata, ydata, xorig.index, test_size=0.2)"
   ]
  },
  {
   "cell_type": "code",
   "execution_count": 83,
   "id": "a684fc24",
   "metadata": {},
   "outputs": [],
   "source": [
    "from sklearn.ensemble import RandomForestClassifier\n",
    "\n",
    "rf = RandomForestClassifier()\n",
    "rf.fit(xtrain, ytrain)\n",
    "pred = rf.predict(xtest)"
   ]
  },
  {
   "cell_type": "code",
   "execution_count": 84,
   "id": "0aae8547",
   "metadata": {},
   "outputs": [
    {
     "data": {
      "text/plain": [
       "0.865401856725569"
      ]
     },
     "execution_count": 84,
     "metadata": {},
     "output_type": "execute_result"
    }
   ],
   "source": [
    "rf.score(xtest, ytest)"
   ]
  },
  {
   "cell_type": "code",
   "execution_count": 85,
   "id": "9fdfc066",
   "metadata": {},
   "outputs": [
    {
     "name": "stderr",
     "output_type": "stream",
     "text": [
      "/opt/data/Gabi/miniconda3/envs/pyt/lib/python3.9/site-packages/sklearn/utils/deprecation.py:87: FutureWarning: Function plot_confusion_matrix is deprecated; Function `plot_confusion_matrix` is deprecated in 1.0 and will be removed in 1.2. Use one of the class methods: ConfusionMatrixDisplay.from_predictions or ConfusionMatrixDisplay.from_estimator.\n",
      "  warnings.warn(msg, category=FutureWarning)\n"
     ]
    },
    {
     "data": {
      "text/plain": [
       "<sklearn.metrics._plot.confusion_matrix.ConfusionMatrixDisplay at 0x7f449df04eb0>"
      ]
     },
     "execution_count": 85,
     "metadata": {},
     "output_type": "execute_result"
    },
    {
     "data": {
      "image/png": "[encoded data removed]",
      "text/plain": [
       "<Figure size 432x288 with 2 Axes>"
      ]
     },
     "metadata": {
      "needs_background": "light"
     },
     "output_type": "display_data"
    }
   ],
   "source": [
    "sklearn.metrics.plot_confusion_matrix(rf, xtest, ytest)"
   ]
  },
  {
   "cell_type": "code",
   "execution_count": 87,
   "id": "28ad4ae2",
   "metadata": {},
   "outputs": [
    {
     "data": {
      "text/plain": [
       "0.7864225745089488"
      ]
     },
     "execution_count": 87,
     "metadata": {},
     "output_type": "execute_result"
    }
   ],
   "source": [
    "from sklearn.metrics import roc_auc_score\n",
    "\n",
    "roc_auc_score(ytest, pred)"
   ]
  },
  {
   "cell_type": "code",
   "execution_count": null,
   "id": "02207c3a",
   "metadata": {},
   "outputs": [],
   "source": []
  }
 ],
 "metadata": {
  "kernelspec": {
   "display_name": "Python 3 (ipykernel)",
   "language": "python",
   "name": "python3"
  },
  "language_info": {
   "codemirror_mode": {
    "name": "ipython",
    "version": 3
   },
   "file_extension": ".py",
   "mimetype": "text/x-python",
   "name": "python",
   "nbconvert_exporter": "python",
   "pygments_lexer": "ipython3",
   "version": "3.9.7"
  },
  "toc": {
   "base_numbering": 1,
   "nav_menu": {},
   "number_sections": true,
   "sideBar": true,
   "skip_h1_title": false,
   "title_cell": "Table of Contents",
   "title_sidebar": "Contents",
   "toc_cell": false,
   "toc_position": {},
   "toc_section_display": true,
   "toc_window_display": false
  }
 },
 "nbformat": 4,
 "nbformat_minor": 5
}
