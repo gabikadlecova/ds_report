{
 "cells": [
  {
   "cell_type": "markdown",
   "id": "816f7d83",
   "metadata": {},
   "source": [
    "# Introduction\n",
    "\n",
    "🚨 TODO\n",
    "popsat vsechny kroky\n",
    "obsah"
   ]
  },
  {
   "cell_type": "code",
   "execution_count": null,
   "id": "870f39ec",
   "metadata": {},
   "outputs": [],
   "source": []
  },
  {
   "cell_type": "code",
   "execution_count": 9,
   "id": "43b8e57f",
   "metadata": {},
   "outputs": [
    {
     "name": "stderr",
     "output_type": "stream",
     "text": [
      "/tmp/ipykernel_147401/1100452732.py:9: DtypeWarning: Columns (7) have mixed types.Specify dtype option on import or set low_memory=False.\n",
      "  all_dfs = [pd.read_csv(file, sep='|') for file in data_files]\n"
     ]
    }
   ],
   "source": [
    "import glob\n",
    "import pandas as pd\n",
    "import matplotlib.pyplot as plt\n",
    "import seaborn as sns\n",
    "sns.set()\n",
    "\n",
    "\n",
    "data_files = glob.glob(\"chess_ratings/*.csv\")\n",
    "all_dfs = [pd.read_csv(file, sep='|') for file in data_files]"
   ]
  },
  {
   "cell_type": "markdown",
   "id": "3401131f",
   "metadata": {},
   "source": [
    "# Data analysis\n",
    "\n",
    "## Chess ratings\n",
    "The analysed dataset are the Chess ratings from the FIDE."
   ]
  },
  {
   "cell_type": "code",
   "execution_count": 2,
   "id": "a4398c47",
   "metadata": {},
   "outputs": [
    {
     "data": {
      "text/html": [
       "<div>\n",
       "<style scoped>\n",
       "    .dataframe tbody tr th:only-of-type {\n",
       "        vertical-align: middle;\n",
       "    }\n",
       "\n",
       "    .dataframe tbody tr th {\n",
       "        vertical-align: top;\n",
       "    }\n",
       "\n",
       "    .dataframe thead th {\n",
       "        text-align: right;\n",
       "    }\n",
       "</style>\n",
       "<table border=\"1\" class=\"dataframe\">\n",
       "  <thead>\n",
       "    <tr style=\"text-align: right;\">\n",
       "      <th></th>\n",
       "      <th>ID Number</th>\n",
       "      <th>Name</th>\n",
       "      <th>Fed</th>\n",
       "      <th>Sex</th>\n",
       "      <th>Tit</th>\n",
       "      <th>WTit</th>\n",
       "      <th>OTit</th>\n",
       "      <th>FOA</th>\n",
       "      <th>Rat</th>\n",
       "      <th>Gms</th>\n",
       "      <th>K</th>\n",
       "      <th>B-day</th>\n",
       "      <th>Flag</th>\n",
       "      <th>Year</th>\n",
       "      <th>Mon</th>\n",
       "    </tr>\n",
       "  </thead>\n",
       "  <tbody>\n",
       "    <tr>\n",
       "      <th>0</th>\n",
       "      <td>35077023</td>\n",
       "      <td>A Chakravarthy</td>\n",
       "      <td>IND</td>\n",
       "      <td>M</td>\n",
       "      <td>NaN</td>\n",
       "      <td>NaN</td>\n",
       "      <td>NaN</td>\n",
       "      <td>NaN</td>\n",
       "      <td>1151</td>\n",
       "      <td>0</td>\n",
       "      <td>40</td>\n",
       "      <td>1986</td>\n",
       "      <td>i</td>\n",
       "      <td>2018</td>\n",
       "      <td>12</td>\n",
       "    </tr>\n",
       "    <tr>\n",
       "      <th>1</th>\n",
       "      <td>10207538</td>\n",
       "      <td>A E M, Doshtagir</td>\n",
       "      <td>BAN</td>\n",
       "      <td>M</td>\n",
       "      <td>NaN</td>\n",
       "      <td>NaN</td>\n",
       "      <td>NaN</td>\n",
       "      <td>NaN</td>\n",
       "      <td>1840</td>\n",
       "      <td>0</td>\n",
       "      <td>40</td>\n",
       "      <td>1974</td>\n",
       "      <td>i</td>\n",
       "      <td>2018</td>\n",
       "      <td>12</td>\n",
       "    </tr>\n",
       "    <tr>\n",
       "      <th>2</th>\n",
       "      <td>5716365</td>\n",
       "      <td>A Hamid, Harman</td>\n",
       "      <td>MAS</td>\n",
       "      <td>M</td>\n",
       "      <td>NaN</td>\n",
       "      <td>NaN</td>\n",
       "      <td>NI</td>\n",
       "      <td>NaN</td>\n",
       "      <td>1325</td>\n",
       "      <td>0</td>\n",
       "      <td>40</td>\n",
       "      <td>1970</td>\n",
       "      <td>NaN</td>\n",
       "      <td>2018</td>\n",
       "      <td>12</td>\n",
       "    </tr>\n",
       "    <tr>\n",
       "      <th>3</th>\n",
       "      <td>10206612</td>\n",
       "      <td>A K M, Sourab</td>\n",
       "      <td>BAN</td>\n",
       "      <td>M</td>\n",
       "      <td>NaN</td>\n",
       "      <td>NaN</td>\n",
       "      <td>NaN</td>\n",
       "      <td>NaN</td>\n",
       "      <td>1708</td>\n",
       "      <td>0</td>\n",
       "      <td>40</td>\n",
       "      <td>0</td>\n",
       "      <td>i</td>\n",
       "      <td>2018</td>\n",
       "      <td>12</td>\n",
       "    </tr>\n",
       "    <tr>\n",
       "      <th>4</th>\n",
       "      <td>5045886</td>\n",
       "      <td>A K, Kalshyan</td>\n",
       "      <td>IND</td>\n",
       "      <td>M</td>\n",
       "      <td>NaN</td>\n",
       "      <td>NaN</td>\n",
       "      <td>NaN</td>\n",
       "      <td>NaN</td>\n",
       "      <td>1826</td>\n",
       "      <td>0</td>\n",
       "      <td>20</td>\n",
       "      <td>1964</td>\n",
       "      <td>NaN</td>\n",
       "      <td>2018</td>\n",
       "      <td>12</td>\n",
       "    </tr>\n",
       "  </tbody>\n",
       "</table>\n",
       "</div>"
      ],
      "text/plain": [
       "   ID Number              Name  Fed Sex  Tit WTit OTit  FOA   Rat  Gms   K  \\\n",
       "0   35077023    A Chakravarthy  IND   M  NaN  NaN  NaN  NaN  1151    0  40   \n",
       "1   10207538  A E M, Doshtagir  BAN   M  NaN  NaN  NaN  NaN  1840    0  40   \n",
       "2    5716365   A Hamid, Harman  MAS   M  NaN  NaN   NI  NaN  1325    0  40   \n",
       "3   10206612     A K M, Sourab  BAN   M  NaN  NaN  NaN  NaN  1708    0  40   \n",
       "4    5045886     A K, Kalshyan  IND   M  NaN  NaN  NaN  NaN  1826    0  20   \n",
       "\n",
       "   B-day Flag  Year  Mon  \n",
       "0   1986    i  2018   12  \n",
       "1   1974    i  2018   12  \n",
       "2   1970  NaN  2018   12  \n",
       "3      0    i  2018   12  \n",
       "4   1964  NaN  2018   12  "
      ]
     },
     "execution_count": 2,
     "metadata": {},
     "output_type": "execute_result"
    }
   ],
   "source": [
    "example_df = all_dfs[5].iloc[:5]\n",
    "example_df"
   ]
  },
  {
   "cell_type": "markdown",
   "id": "9173eb01",
   "metadata": {},
   "source": [
    "The dataset contains data of chess players registered in FIDE (The International Chess Federation). One example represents data of games and ratings of a player. The data is aggregated by months, and it ranges from December 2017 to December 2019. Both male and female players are represented, there are separate titles for women, but some female players compete in the original categories (mixed gender) as well.\n",
    "\n",
    "There are over 350k unique players."
   ]
  },
  {
   "cell_type": "code",
   "execution_count": 36,
   "id": "7083fec4",
   "metadata": {},
   "outputs": [
    {
     "name": "stdout",
     "output_type": "stream",
     "text": [
      "Players: 354525\n"
     ]
    }
   ],
   "source": [
    "data = pd.concat(all_dfs)\n",
    "data[\"Year / month\"] = [f\"{y} / {m if (len(str(m)) == 2) else ('0' + str(m))}\" for y, m in zip(data[\"Year\"], data[\"Mon\"])]\n",
    "print(\"Players: \" + str(len(data['ID Number'].unique())))"
   ]
  },
  {
   "cell_type": "markdown",
   "id": "1f345fe2",
   "metadata": {},
   "source": [
    "## Column meanings\n",
    "\n",
    "Column | Description\n",
    "--- | ---\n",
    "'ID Number', 'Name' | ID, name of the player\n",
    "'Fed', 'Sex', 'B-day' | Country, gender and birth year\n",
    "'Tit', 'WTit' | Title and female title\n",
    "'OTit' | Other titles, e.g. Arbiter, Trainer...\n",
    "'FOA' | FIDE online arena rating\n",
    "'Rat' | Rating of the player\n",
    "'Gms' | Number of games played in the month\n",
    "'K' | development coefficient\n",
    "'Flag' | (in)activity flag\n",
    "'Year', 'Mon' | Month and year of the entry\n",
    "\n",
    "\n",
    "---------------\n",
    "source: https://ratings.fide.com/download_lists.phtml\n",
    "\n",
    "K factor: https://en.wikipedia.org/wiki/Elo_rating_system#:~:text=United%20States%20Chess%20Federation%20ratings,-The%20United%20States&text=The%20K-factor,%20in%20the,in%20a%20tournament%20(m)."
   ]
  },
  {
   "cell_type": "markdown",
   "id": "0dc92d4f",
   "metadata": {},
   "source": [
    "## Player data and demographics"
   ]
  },
  {
   "cell_type": "markdown",
   "id": "d7a66d06",
   "metadata": {},
   "source": [
    "### Countries\n",
    "There are players from 192 different countries registered. Czechia is the 10th in player count, and Russia has the most chess players overall. More information about countries is in the first report."
   ]
  },
  {
   "cell_type": "markdown",
   "id": "0269596a",
   "metadata": {},
   "source": [
    "### Player age\n",
    "The most active players are children and young adults. With age, the interest in chess declines, with a slight increase close to retirement. Elderly people have a decline in active counts probably due to their worse health and lower population count."
   ]
  },
  {
   "cell_type": "code",
   "execution_count": 10,
   "id": "f6ca9869",
   "metadata": {},
   "outputs": [
    {
     "data": {
      "image/png": "[encoded data removed]",
      "text/plain": [
       "<Figure size 432x288 with 1 Axes>"
      ]
     },
     "metadata": {},
     "output_type": "display_data"
    }
   ],
   "source": [
    "age_ppl = data[['ID Number', 'B-day']].drop_duplicates().reset_index()\n",
    "\n",
    "plt.title(\"Distribution of players by birth year.\")\n",
    "sns.histplot(data=age_ppl[age_ppl['B-day'] > 1900], x='B-day', binrange=[1920, 2010], binwidth=5)\n",
    "plt.xlabel(\"Birth year\")\n",
    "plt.show()"
   ]
  },
  {
   "cell_type": "markdown",
   "id": "60a7e65c",
   "metadata": {},
   "source": [
    "### Activity\n",
    "\n",
    "Activity flag is different for women and men competitions. The value nan means \"active man\", which is bad practice, we will create a new boolean column indicating activity regardless of gender."
   ]
  },
  {
   "cell_type": "code",
   "execution_count": 13,
   "id": "400a0f1d",
   "metadata": {},
   "outputs": [
    {
     "data": {
      "text/plain": [
       "array(['i', nan, 'wi', 'w'], dtype=object)"
      ]
     },
     "execution_count": 13,
     "metadata": {},
     "output_type": "execute_result"
    }
   ],
   "source": [
    "data.Flag.unique()"
   ]
  },
  {
   "cell_type": "code",
   "execution_count": 40,
   "id": "a150d458",
   "metadata": {},
   "outputs": [
    {
     "name": "stdout",
     "output_type": "stream",
     "text": [
      "['F']\n",
      "['M']\n"
     ]
    }
   ],
   "source": [
    "print(data[data.Flag == 'wi'].Sex.unique())\n",
    "print(data[data.Flag == 'i'].Sex.unique())\n",
    "\n",
    "data.loc[data['Flag'] == 'wi', 'Flag'] = 'i'\n",
    "data.loc[data['Flag'] == 'w', 'Flag'] = ''"
   ]
  },
  {
   "cell_type": "markdown",
   "id": "f6b171cd",
   "metadata": {},
   "source": [
    "There is much less women chess players than men chess players.\n",
    "\n",
    "The distribution of active month counts is mostly uniform, with larger number of players active for 1 year, and a lot of players were active the whole time."
   ]
  },
  {
   "cell_type": "code",
   "execution_count": 18,
   "id": "2333f2c2",
   "metadata": {},
   "outputs": [
    {
     "data": {
      "image/png": "[encoded data removed]",
      "text/plain": [
       "<Figure size 648x288 with 2 Axes>"
      ]
     },
     "metadata": {},
     "output_type": "display_data"
    }
   ],
   "source": [
    "n_years = data[data['Flag'] != 'i'][['ID Number', 'Sex', 'Year']].groupby(['ID Number', 'Sex']).count()\n",
    "\n",
    "fig, axs = plt.subplots(ncols=2, figsize=(9,4), sharey=True)\n",
    "\n",
    "sns.countplot(data=data[[\"ID Number\", \"Sex\"]].drop_duplicates([\"ID Number\", \"Sex\"]), x=\"Sex\", ax=axs[0])\n",
    "plt.ylim(10**2, 10**6)\n",
    "axs[0].set_xlabel(\"Sex\")\n",
    "axs[0].set_title(\"Number of players\")\n",
    "plt.yscale('log')\n",
    "\n",
    "sns.histplot(data=n_years, x='Year', hue='Sex', discrete=True, log_scale=(False, True), ax=axs[1])\n",
    "axs[1].legend([\"F\", \"M\"], loc='upper right')\n",
    "plt.ylim(10**2, 10**6)\n",
    "axs[1].set_xlabel(\"Number of months active\")\n",
    "axs[1].set_title(\"Players active by months\")\n",
    "plt.show()"
   ]
  },
  {
   "cell_type": "markdown",
   "id": "acdc6857",
   "metadata": {},
   "source": [
    "The overall number of registered players increased during the time interval, however number of active players increased at a slower pace."
   ]
  },
  {
   "cell_type": "code",
   "execution_count": 41,
   "id": "cdd09743",
   "metadata": {},
   "outputs": [],
   "source": [
    "data['active'] = (data['Flag'] != 'i').astype(int)"
   ]
  },
  {
   "cell_type": "code",
   "execution_count": 27,
   "id": "21d424ec",
   "metadata": {},
   "outputs": [],
   "source": [
    "inactive_counts = data[[\"Year\", \"Mon\", \"active\"]].groupby([\"Year\", \"Mon\"]).sum()\n",
    "inactive_counts = inactive_counts.reset_index()\n",
    "inactive_counts[\"Year / month\"] = [f\"{y} / {m if (len(str(m)) == 2) else ('0' + str(m))}\" for y, m in zip(inactive_counts[\"Year\"], inactive_counts[\"Mon\"])]"
   ]
  },
  {
   "cell_type": "code",
   "execution_count": 29,
   "id": "ff4632d4",
   "metadata": {},
   "outputs": [],
   "source": [
    "all_counts = data[[\"Year\", \"Mon\", \"ID Number\"]].groupby([\"Year\", \"Mon\"]).count()\n",
    "all_counts = all_counts.reset_index()\n",
    "all_counts[\"Year / month\"] = [f\"{y} / {m if (len(str(m)) == 2) else ('0' + str(m))}\" for y, m in zip(all_counts[\"Year\"], all_counts[\"Mon\"])]"
   ]
  },
  {
   "cell_type": "code",
   "execution_count": 30,
   "id": "fe95ccf3",
   "metadata": {},
   "outputs": [
    {
     "data": {
      "image/png": "[encoded data removed]",
      "text/plain": [
       "<Figure size 432x288 with 1 Axes>"
      ]
     },
     "metadata": {},
     "output_type": "display_data"
    }
   ],
   "source": [
    "sns.lineplot(data=all_counts, x=\"Year / month\", y=\"ID Number\", marker='o', label='Registered')\n",
    "sns.lineplot(data=inactive_counts, x=\"Year / month\", y=\"active\", marker='o', label='Active')\n",
    "\n",
    "plt.xticks([\"2017 / 12\", \"2018 / 12\", \"2019 / 12\"])\n",
    "plt.title(\"Number of players in the two years\")\n",
    "plt.ylabel(\"Player count\")\n",
    "plt.show()"
   ]
  },
  {
   "cell_type": "markdown",
   "id": "c23ea9b4",
   "metadata": {},
   "source": [
    "### Titles and ratings"
   ]
  },
  {
   "cell_type": "markdown",
   "id": "2f04e589",
   "metadata": {},
   "source": [
    "FIDE arena titles are divers:"
   ]
  },
  {
   "cell_type": "code",
   "execution_count": 28,
   "id": "eb57348e",
   "metadata": {},
   "outputs": [
    {
     "data": {
      "text/plain": [
       "array([nan, 'ACM', 'AIM', 'AFM', 'AGM', 'FI,FA,IA,FT,IO,SIAGM', 'SI,SI',\n",
       "       'IA', 'FST', 'IO', 'FI    AIM', 'IO,FT', 'FT', 'SI', 'IA    AGM',\n",
       "       ',IO', 'IA,SI', 'FI', 'DI'], dtype=object)"
      ]
     },
     "execution_count": 28,
     "metadata": {},
     "output_type": "execute_result"
    }
   ],
   "source": [
    "data.FOA.unique()"
   ]
  },
  {
   "cell_type": "markdown",
   "id": "32e8f974",
   "metadata": {},
   "source": [
    "For simplicity, we will focus on the main rating classes. The titles of FIDE are the following:\n",
    "\n",
    "- CM - Candidate Master\n",
    "- FM - FIDE Master\n",
    "- IM - International Master\n",
    "- GM - Grand Master\n",
    "\n",
    "Women titles have a prefix of \"W\". The titles are achieved by 11 % of women and only 5 % of men.\n",
    "\n",
    "More data about the titles can be found in the previous report."
   ]
  },
  {
   "cell_type": "markdown",
   "id": "2ae8af0b",
   "metadata": {},
   "source": [
    "The rating distributions match the prestige of a title, with better titles awarded to higher ranking players. In the male division, the rating distributions are more narrow than in the female section. The FIDE master title is occassionally achieved by some players with a low rating, while the better titles are awarded mostly to players with a very high rating"
   ]
  },
  {
   "cell_type": "code",
   "execution_count": 31,
   "id": "d188055a",
   "metadata": {},
   "outputs": [
    {
     "data": {
      "image/png": "[encoded data removed]",
      "text/plain": [
       "<Figure size 720x360 with 2 Axes>"
      ]
     },
     "metadata": {},
     "output_type": "display_data"
    }
   ],
   "source": [
    "data[\"WTit_filled\"] = data[\"WTit\"].fillna('None')\n",
    "data[\"Tit_filled\"] = data[\"Tit\"].fillna('None')\n",
    "\n",
    "\n",
    "def group_rating(d, title):\n",
    "    name = f\"{title}_filled\"\n",
    "    d[name] = d[title].fillna(\"None\")\n",
    "    \n",
    "    return d[[\"ID Number\", \"Rat\", name]].groupby([\"ID Number\", name]).mean().reset_index()\n",
    "\n",
    "fig, axs = plt.subplots(ncols=2, figsize=(10,5))\n",
    "sns.boxplot(data=group_rating(data[data[\"Sex\"] == \"F\"].copy(), \"WTit\"), x='WTit_filled', y=\"Rat\",\n",
    "            order=[\"None\", \"WCM\", \"WFM\", \"WIM\", \"WGM\"], ax=axs[0])\n",
    "plt.ylabel(\"Rating\")\n",
    "\n",
    "sns.boxplot(data=group_rating(data[data[\"Sex\"] == \"M\"].copy(), \"Tit\"), x='Tit_filled', y=\"Rat\",\n",
    "            order=[\"None\", \"CM\", \"FM\", \"IM\", \"GM\"], ax=axs[1])\n",
    "\n",
    "axs[0].set_title(\"Women - titles\")\n",
    "axs[1].set_title(\"Men - titles\")\n",
    "\n",
    "plt.suptitle(\"Distribution of ratings according to title achieved\")\n",
    "plt.ylabel(\"Rating\")\n",
    "axs[0].set_xlabel(\"Title code\")\n",
    "axs[1].set_xlabel(\"Title code\")\n",
    "plt.tight_layout()\n",
    "plt.show()"
   ]
  },
  {
   "cell_type": "markdown",
   "id": "b2d0e840",
   "metadata": {},
   "source": [
    "Finally, we analyzed the score of players that were active in the whole period of 2 years. Specifically, we analyzed how much the score from 12/2019 improved compared to 12/2017. We plot the difference between the two scores.\n",
    "\n",
    "In the male section, half of the players got better and the other half got worse. For most players, the score difference was not that large, however there were some outliers with a very large improvement. In the female category, slightly more than a half improved, and the score differences were for most players quite noticeable."
   ]
  },
  {
   "cell_type": "code",
   "execution_count": 42,
   "id": "105d0229",
   "metadata": {},
   "outputs": [
    {
     "name": "stdout",
     "output_type": "stream",
     "text": [
      "Number of players active the whole time:  89077\n"
     ]
    },
    {
     "data": {
      "image/png": "[encoded data removed]",
      "text/plain": [
       "<Figure size 432x288 with 1 Axes>"
      ]
     },
     "metadata": {},
     "output_type": "display_data"
    }
   ],
   "source": [
    "active_ppl = data[data[\"active\"] == 1][[\"ID Number\", \"Mon\"]].groupby(\"ID Number\").count()\n",
    "\n",
    "all_timers = active_ppl[active_ppl[\"Mon\"] == 25]\n",
    "all_timers = data[data[\"ID Number\"].isin(all_timers.index)].reset_index()\n",
    "print(\"Number of players active the whole time: \", len(all_timers[\"ID Number\"].unique()))\n",
    "\n",
    "first_month = all_timers[all_timers[\"Year / month\"] == \"2017 / 12\"].set_index(\"ID Number\")\n",
    "last_month = all_timers[all_timers[\"Year / month\"] == \"2019 / 12\"].set_index(\"ID Number\")\n",
    "\n",
    "rating_diff = last_month[\"Rat\"] - first_month[\"Rat\"]\n",
    "rating_diff = rating_diff.to_frame()\n",
    "rating_diff[\"Sex\"] = first_month[\"Sex\"]\n",
    "\n",
    "plt.title(\"Difference between last and first rating\")\n",
    "sns.boxplot(data=rating_diff, x=\"Sex\", y=\"Rat\")\n",
    "plt.ylabel(\"Rating\")\n",
    "plt.show()"
   ]
  },
  {
   "cell_type": "code",
   "execution_count": null,
   "id": "dd41422f",
   "metadata": {},
   "outputs": [],
   "source": []
  },
  {
   "cell_type": "code",
   "execution_count": null,
   "id": "f834060a",
   "metadata": {},
   "outputs": [],
   "source": []
  },
  {
   "cell_type": "markdown",
   "id": "4d2f156d",
   "metadata": {},
   "source": [
    "# Preprocessing\n",
    "\n",
    "There are some changes, errors or inconsistencies in the data.\n",
    "\n",
    "1. some players (2549) changed their name - some due to typos or name change after marriage\n",
    "2. some players changed their gender - apart from errors, this could mean they are trans\n",
    "3. some changed their birth year\n",
    "4. some players changed their country\n",
    "\n",
    "In the modeling, we won't use player names and their countries, as names are not relevant features and countries would lead\n",
    "to a large feature space. As so, problems **1. and 4. don't need to be solved**.\n",
    "\n",
    "### Gender changes"
   ]
  },
  {
   "cell_type": "code",
   "execution_count": 55,
   "id": "31b87f98",
   "metadata": {},
   "outputs": [
    {
     "name": "stdout",
     "output_type": "stream",
     "text": [
      "Number of gender changes: 363\n"
     ]
    }
   ],
   "source": [
    "dupl_gender = data[['ID Number', 'Sex', 'Flag']].groupby(['ID Number', 'Sex']).count().reset_index()\n",
    "dupl_gender = dupl_gender[dupl_gender.duplicated('ID Number')]\n",
    "print(f\"Number of gender changes: {len(dupl_gender)}\")"
   ]
  },
  {
   "cell_type": "markdown",
   "id": "9adea53a",
   "metadata": {},
   "source": [
    "Since the number of people who changed gender is relatively small, we will drop them. \n",
    "\n",
    "### Wrong years\n",
    "If the birth year is 0 and was changed later on, we try to fill it with the correct value. Otherwise we **drop all rows** with people **younger than 5 years** or **older than 110 years**."
   ]
  },
  {
   "cell_type": "markdown",
   "id": "8eedb98e",
   "metadata": {},
   "source": [
    "## Basic preprocessing - summary\n",
    "- we drop people with changing gender\n",
    "- we drop or fill invalid birth years\n",
    "- we unify the activity flag column to be gender-independent\n",
    "- we convert both mixed and female titles to numerical representation\n",
    "    - ordered by importance (see distribution of ratings by title plot)\n",
    "    - from worst to best - `[\"None\", \"CM\", \"FM\", \"IM\", \"GM\"]`\n",
    "\n",
    "All steps are done in the function `preprocess_data`"
   ]
  },
  {
   "cell_type": "code",
   "execution_count": 74,
   "id": "2f0609d8",
   "metadata": {},
   "outputs": [],
   "source": [
    "from spark_utils import preprocess_data\n",
    "\n",
    "data = pd.concat(all_dfs)\n",
    "data = preprocess_data(data)"
   ]
  },
  {
   "cell_type": "code",
   "execution_count": 77,
   "id": "9e567343",
   "metadata": {},
   "outputs": [
    {
     "name": "stdout",
     "output_type": "stream",
     "text": [
      "Titles converted to numerical values:\n",
      "[0 3 4 2 1]\n",
      "[0 2 3 1 4]\n"
     ]
    }
   ],
   "source": [
    "print(\"Titles converted to numerical values:\")\n",
    "print(data['tit'].unique())\n",
    "print(data['wtit'].unique())"
   ]
  },
  {
   "cell_type": "markdown",
   "id": "60983569",
   "metadata": {},
   "source": [
    "## SPARK preprocessing\n",
    "`pyspark` was used mainly to aggregate the data. As described in the introduction, for every player we want to predict if their rating changed. This means that we need data in the format `user, y`, but raw data contains multiple rows per user.\n",
    "\n"
   ]
  },
  {
   "cell_type": "code",
   "execution_count": null,
   "id": "f87d2a5f",
   "metadata": {},
   "outputs": [],
   "source": []
  },
  {
   "cell_type": "markdown",
   "id": "80277551",
   "metadata": {},
   "source": [
    "# Modeling"
   ]
  },
  {
   "cell_type": "code",
   "execution_count": null,
   "id": "90966ee8",
   "metadata": {},
   "outputs": [],
   "source": []
  },
  {
   "cell_type": "markdown",
   "id": "0e511ff0",
   "metadata": {},
   "source": [
    "# Evaluation"
   ]
  },
  {
   "cell_type": "code",
   "execution_count": null,
   "id": "acb0bc19",
   "metadata": {},
   "outputs": [],
   "source": []
  }
 ],
 "metadata": {
  "kernelspec": {
   "display_name": "Python 3 (ipykernel)",
   "language": "python",
   "name": "python3"
  },
  "language_info": {
   "codemirror_mode": {
    "name": "ipython",
    "version": 3
   },
   "file_extension": ".py",
   "mimetype": "text/x-python",
   "name": "python",
   "nbconvert_exporter": "python",
   "pygments_lexer": "ipython3",
   "version": "3.9.7"
  }
 },
 "nbformat": 4,
 "nbformat_minor": 5
}
